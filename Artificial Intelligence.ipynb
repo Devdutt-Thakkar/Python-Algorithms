{
 "cells": [
  {
   "cell_type": "markdown",
   "id": "03ba9f70",
   "metadata": {},
   "source": [
    "# Dots and Boxes"
   ]
  },
  {
   "cell_type": "code",
   "execution_count": 3,
   "id": "3a03c7e5",
   "metadata": {},
   "outputs": [],
   "source": [
    "import matplotlib.pyplot as plt \n",
    "from matplotlib import collections as mc\n",
    "def drawlattice(n,name):\n",
    "    for i in range(1,n+1):\n",
    "        plt.plot(1,i,'o',c = 'black')\n",
    "    plt.savefig(name)\n",
    "    plt.show()"
   ]
  },
  {
   "cell_type": "code",
   "execution_count": 4,
   "id": "c44c030b",
   "metadata": {},
   "outputs": [
    {
     "data": {
      "image/png": "[encoded data removed]",
      "text/plain": [
       "<Figure size 640x480 with 1 Axes>"
      ]
     },
     "metadata": {},
     "output_type": "display_data"
    }
   ],
   "source": [
    "drawlattice(5,'lattice.png')"
   ]
  },
  {
   "cell_type": "markdown",
   "id": "1ffa5d87",
   "metadata": {},
   "source": [
    "Now this filled just one line, we have to draw a grid for the game so we will do just that"
   ]
  },
  {
   "cell_type": "code",
   "execution_count": 11,
   "id": "322702b7",
   "metadata": {},
   "outputs": [],
   "source": [
    "game = [[(1,2),(1,1)],[(3,3),(4,3)],[(1,5),(2,5)],[(1,2),(2,2)],[(2,2),(2,1)],[(1,1),(2,1)], [(3,4),(3,3)],[(3,4),(4,4)]]\n",
    "def drawgame(n,name,game):\n",
    "    colors2 = []\n",
    "    for k in range(0,len(game)):\n",
    "        if k%2 == 0:\n",
    "            colors2.append('red')\n",
    "        else:\n",
    "            colors2.append('blue')\n",
    "    lc = mc.LineCollection(game, colors = colors2, linewidths = 2)\n",
    "    fig, ax = plt.subplots()\n",
    "    for i in range(1,n+1):\n",
    "        for j in range(1,n+1):\n",
    "            plt.plot(i,j,'o',c='black')\n",
    "    ax.add_collection(lc)\n",
    "    ax.autoscale()\n",
    "    ax.margins(0.1)\n",
    "    plt.savefig(name)\n",
    "    plt.show()"
   ]
  },
  {
   "cell_type": "code",
   "execution_count": 12,
   "id": "2ce7854c",
   "metadata": {},
   "outputs": [
    {
     "data": {
      "image/png": "[encoded data removed]",
      "text/plain": [
       "<Figure size 640x480 with 1 Axes>"
      ]
     },
     "metadata": {},
     "output_type": "display_data"
    }
   ],
   "source": [
    "drawgame(5,'gameinprogress.png',game)"
   ]
  },
  {
   "cell_type": "markdown",
   "id": "2b74a98e",
   "metadata": {},
   "source": [
    "Now we will create a function that can keep score for dots and boxes game.\n",
    "We start with a function that can take any given game and find the completed squares that have been drawn, and then we create a function that will calculate the score.\n",
    "Our function will count completed squares by iterating over every line segment in the game. If a line is a horizontal line, we determine whether it is the top of a completely drawn square by checking whether the parellel line below it has also been drawn in the game, and also whether the left and right sides of the square have been drawn"
   ]
  },
  {
   "cell_type": "code",
   "execution_count": 26,
   "id": "c748e9fb",
   "metadata": {},
   "outputs": [],
   "source": [
    "def squarefinder(game):\n",
    "    countofsquares = 0\n",
    "    for line in game:\n",
    "        parallel = False\n",
    "        left = False \n",
    "        right = False\n",
    "        if line[0][1] == line[1][1]:\n",
    "            if[(line[0][0], line[0][1]-1), (line[1][0], line[1][1]-1)] in game:\n",
    "                parallel = True\n",
    "            if[(line[0][0], line[0][1]), (line[1][0] - 1, line[1][1]-1)] in game:\n",
    "                left = True\n",
    "            if[(line[0][0]+1, line[0][1]), (line[1][0], line[1][1]-1)] in game:\n",
    "                right = True\n",
    "            if parallel and left and right:\n",
    "                countofsquares += 1\n",
    "                \n",
    "    return countofsquares"
   ]
  },
  {
   "cell_type": "markdown",
   "id": "dfe3f34a",
   "metadata": {},
   "source": [
    "now we can write a short function to calculate the score of the game\n",
    "\n",
    "the score will be recorded as a list with 2 elements, like [2,1]. The first element of the score list represents the score of the frst player and scnd element is score of the scnd player."
   ]
  },
  {
   "cell_type": "code",
   "execution_count": 15,
   "id": "dd39226a",
   "metadata": {},
   "outputs": [],
   "source": [
    "def score(game):\n",
    "    score = [0,0]\n",
    "    progress = []\n",
    "    squares = 0\n",
    "    for line in game:\n",
    "        progress.append(line)\n",
    "        newsquares = squarefinder(progress)\n",
    "        if newsquares > squares:\n",
    "            if len(progress)%2 == 0:\n",
    "                score[1] = score[1]+1\n",
    "            else:\n",
    "                score[0] = score[0]+1\n",
    "        squares = newsquares\n",
    "    return score"
   ]
  },
  {
   "cell_type": "markdown",
   "id": "bc14e47a",
   "metadata": {},
   "source": [
    "# Building our tree"
   ]
  },
  {
   "cell_type": "code",
   "execution_count": 21,
   "id": "79d43544",
   "metadata": {},
   "outputs": [],
   "source": [
    "def generateTree(possible_moves, depth, maxdepth):\n",
    "    tree = []\n",
    "    for move in possible_moves:\n",
    "        move_profile = [move]\n",
    "        if depth<maxdepth:\n",
    "            possible_moves2 = possible_moves.copy()\n",
    "            possible_moves2.remove(move)\n",
    "            move_profile.append(generateTree(possible_moves2, depth+1, maxdepth))\n",
    "        tree.append(move_profile)\n",
    "    return tree"
   ]
  },
  {
   "cell_type": "markdown",
   "id": "88044ccf",
   "metadata": {},
   "source": [
    "function iterates over every possible move. For each move it creates a move_profile. at first, the move_profile consists only of the move itself. But for branches that are not yet at the lowest depth of the tree, we need to add those moves' children. We add children recursively: we call the generate_tree() function again, but now we have removed one move from the possible_moves list. Finally we append the move_profile list to the tree.\n"
   ]
  },
  {
   "cell_type": "code",
   "execution_count": 22,
   "id": "19f36f9b",
   "metadata": {},
   "outputs": [
    {
     "name": "stdout",
     "output_type": "stream",
     "text": [
      "[[[(4, 4), (4, 3)], [[[(4, 1), (5, 1)]]]], [[(4, 1), (5, 1)], [[[(4, 4), (4, 3)]]]]]\n"
     ]
    }
   ],
   "source": [
    "allpossible = [[(4,4),(4,3)],[(4,1),(5,1)]]\n",
    "thetree = generateTree(allpossible,0,1)\n",
    "print(thetree)"
   ]
  },
  {
   "cell_type": "markdown",
   "id": "d03cb33e",
   "metadata": {},
   "source": [
    "next we will make 2 additions to moke our tree more useful:\n",
    "    \n",
    "    the first records the game score along with the moves\n",
    "    the second appends a blank list to keep a place for children"
   ]
  },
  {
   "cell_type": "code",
   "execution_count": 24,
   "id": "aa9b9930",
   "metadata": {},
   "outputs": [],
   "source": [
    "def generate_tree(possible_moves,depth,maxdepth,game_so_far):\n",
    "    tree = []\n",
    "    for move in possible_moves:\n",
    "        move_profile = [move]\n",
    "        game2 = game_so_far.copy()\n",
    "        game2.append(move)\n",
    "        move_profile.append(score(game2))\n",
    "        if depth < maxdepth:\n",
    "            possible_moves2 = possible_moves.copy()\n",
    "            possible_moves2.remove(move)\n",
    "            move_profile.append(generate_tree(possible_moves2,depth + 1,maxdepth,game2))\n",
    "        else:\n",
    "            move_profile.append([])\n",
    "        tree.append(move_profile)\n",
    "    return tree"
   ]
  },
  {
   "cell_type": "code",
   "execution_count": 27,
   "id": "4a3944b5",
   "metadata": {},
   "outputs": [
    {
     "name": "stdout",
     "output_type": "stream",
     "text": [
      "[[[(4, 4), (4, 3)], [0, 0], [[[(4, 1), (5, 1)], [0, 0], []]]], [[(4, 1), (5, 1)], [0, 0], [[[(4, 4), (4, 3)], [0, 0], []]]]]\n"
     ]
    }
   ],
   "source": [
    "allpossible = [[(4,4),(4,3)],[(4,1),(5,1)]]\n",
    "thetree = generate_tree(allpossible,0,1,[])\n",
    "print(thetree)"
   ]
  },
  {
   "cell_type": "markdown",
   "id": "0bbc30de",
   "metadata": {},
   "source": [
    "# Winning a game"
   ]
  },
  {
   "cell_type": "markdown",
   "id": "fc8b535a",
   "metadata": {},
   "source": [
    "Our decision in the present is about maximizing our score. But\n",
    "in order to maximize our score, we have to consider all the ways that our\n",
    "opponent will try to minimize our score. So the best choice is a maximum\n",
    "of minima.\n",
    "Note that minimax goes through time in reverse. The game proceeds\n",
    "forward in time, from the present to the future. But in a way, the minimax\n",
    "algorithm proceeds backward in time, because we consider the scores of\n",
    "possible far futures first and then work our way back to the present to find\n",
    "the current choice that will lead to the best future. In the context of our\n",
    "game tree, the minimax code starts at the top of the tree. It calls itself\n",
    "recursively on each of its child branches. The child branches, in turn, call\n",
    "minimax recursively on their own child branches. This recursive calling\n",
    "continues all the way to the terminal nodes, where, instead of calling mini-\n",
    "max again, we calculate the game score for each node. So we’re calculating\n",
    "the game score for the terminal nodes first; we’re starting our game score\n",
    "calculations in the far future. These scores are then passed back to their\n",
    "parent nodes so that the parent nodes can calculate the best moves and\n",
    "corresponding score for their part of the game. These scores and moves\n",
    "are passed back up through the game tree until arriving back at the very\n",
    "top, the parent node, which represents the present.\n",
    "Listing 10-6 has a function that accomplishes minimax."
   ]
  },
  {
   "cell_type": "code",
   "execution_count": 28,
   "id": "db37799c",
   "metadata": {},
   "outputs": [],
   "source": [
    "import numpy as np\n",
    "def minimax(max_or_min, tree):\n",
    "    allscores = []\n",
    "    for move_profile in tree:\n",
    "        if move_profile[2] == []:\n",
    "            allscores.append(move_profile[1][0] - move_profile[1][1])\n",
    "        else:\n",
    "            move, score = minimax((-1)*max_or_min, move_profile[2])\n",
    "            allscores.append(score)\n",
    "    newlist = [score*max_or_min for score in allscores]\n",
    "    bestscore = max(newlist)\n",
    "    bestmove = np.argmax(newlist)\n",
    "    return(bestmove, max_or_min*bestscore)"
   ]
  },
  {
   "cell_type": "code",
   "execution_count": 29,
   "id": "32c4c114",
   "metadata": {},
   "outputs": [],
   "source": [
    "thetree = generate_tree(allpossible, 0,3,game)"
   ]
  },
  {
   "cell_type": "code",
   "execution_count": 30,
   "id": "6b54912b",
   "metadata": {},
   "outputs": [],
   "source": [
    "move,score = minimax(1, thetree)"
   ]
  },
  {
   "cell_type": "code",
   "execution_count": 31,
   "id": "4c92776c",
   "metadata": {},
   "outputs": [
    {
     "name": "stdout",
     "output_type": "stream",
     "text": [
      "[(4, 4), (4, 3)]\n"
     ]
    }
   ],
   "source": [
    "print(thetree[move][0])"
   ]
  },
  {
   "cell_type": "code",
   "execution_count": null,
   "id": "ff1e3af9",
   "metadata": {},
   "outputs": [],
   "source": []
  }
 ],
 "metadata": {
  "kernelspec": {
   "display_name": "Python 3 (ipykernel)",
   "language": "python",
   "name": "python3"
  },
  "language_info": {
   "codemirror_mode": {
    "name": "ipython",
    "version": 3
   },
   "file_extension": ".py",
   "mimetype": "text/x-python",
   "name": "python",
   "nbconvert_exporter": "python",
   "pygments_lexer": "ipython3",
   "version": "3.11.4"
  }
 },
 "nbformat": 4,
 "nbformat_minor": 5
}
