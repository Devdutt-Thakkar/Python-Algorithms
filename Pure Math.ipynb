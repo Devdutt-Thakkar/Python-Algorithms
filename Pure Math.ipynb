{
 "cells": [
  {
   "cell_type": "markdown",
   "id": "ae627d27",
   "metadata": {},
   "source": [
    "# Continued Fractions"
   ]
  },
  {
   "cell_type": "markdown",
   "id": "110dadd5",
   "metadata": {},
   "source": [
    "## Compressing and communicating phi"
   ]
  },
  {
   "cell_type": "markdown",
   "id": "2add8b32",
   "metadata": {},
   "source": [
    "one of the very less know things about phi is that \n",
    "\n",
    "phi**2 - phi -1 = 0"
   ]
  },
  {
   "cell_type": "markdown",
   "id": "f6893026",
   "metadata": {},
   "source": [
    "continued fractions are basically consists of sums and reciprocals nested in mulitple layers. COntinued fraction can be finite, like the one above when divided by itself and substituted"
   ]
  },
  {
   "cell_type": "markdown",
   "id": "963c2260",
   "metadata": {},
   "source": [
    "continued fractions are basically represented as this\n",
    "\n",
    "[1; 1,2,1,1,4,1,1,6,1,1,8...]\n",
    "\n",
    "where the digit before semicolon are not repeated and the digit after the semicolon are repeated"
   ]
  },
  {
   "cell_type": "markdown",
   "id": "0a161258",
   "metadata": {},
   "source": [
    "steps for continued fractions program:\n",
    "    \n",
    "    find the small out of the 2 numbers to be divided\n",
    "    append the quotient \n",
    "    switcharoo with % to swap the new big and new small\n",
    "    "
   ]
  },
  {
   "cell_type": "code",
   "execution_count": 3,
   "id": "8489a45c",
   "metadata": {},
   "outputs": [],
   "source": [
    "import math\n",
    "def continued_fraction(x,y,length_tolerance):\n",
    "    output = []\n",
    "    big = max(x,y)\n",
    "    small = min(x,y)\n",
    "    while small>0 and len(output)<length_tolerance:\n",
    "        quotient = math.floor(big/small)\n",
    "        output.append(quotient)\n",
    "        new_small = big%small\n",
    "        big = small\n",
    "        small = new_small\n",
    "    return output"
   ]
  },
  {
   "cell_type": "code",
   "execution_count": 4,
   "id": "3e86ec41",
   "metadata": {},
   "outputs": [
    {
     "name": "stdout",
     "output_type": "stream",
     "text": [
      "[3, 5, 2]\n"
     ]
    }
   ],
   "source": [
    "print(continued_fraction(105,33,10))"
   ]
  },
  {
   "cell_type": "markdown",
   "id": "ee7ffe38",
   "metadata": {},
   "source": [
    "### For checking that the numbers above correctly represent the fraction provided"
   ]
  },
  {
   "cell_type": "code",
   "execution_count": 5,
   "id": "6b12df7d",
   "metadata": {},
   "outputs": [],
   "source": [
    "#The function works be getting number [3,5,2] and seeing that we get the repeateting float number that it should be as an output\n",
    "#The argument is taking in a list as an argument and not a function\n",
    "def get_number(continued_fraction):\n",
    "    index = -1\n",
    "    number = continued_fraction[index]\n",
    "    \n",
    "    while abs(index) < len(continued_fraction):\n",
    "        next = continued_fraction[index - 1]\n",
    "        number = 1/number + next\n",
    "        index-=1\n",
    "    return(number)"
   ]
  },
  {
   "cell_type": "code",
   "execution_count": 6,
   "id": "9dbbb5b0",
   "metadata": {},
   "outputs": [
    {
     "data": {
      "text/plain": [
       "3.1818181818181817"
      ]
     },
     "execution_count": 6,
     "metadata": {},
     "output_type": "execute_result"
    }
   ],
   "source": [
    "get_number([3,5,2])"
   ]
  },
  {
   "cell_type": "markdown",
   "id": "47ca27f6",
   "metadata": {},
   "source": [
    "# From decimals to continuous fractions"
   ]
  },
  {
   "cell_type": "markdown",
   "id": "763be5bd",
   "metadata": {},
   "source": [
    "as we know how the decimals to fractions look we will start by finding a which is the easiest to find"
   ]
  },
  {
   "cell_type": "code",
   "execution_count": 7,
   "id": "a019d646",
   "metadata": {},
   "outputs": [],
   "source": [
    "x = 1.4142135623730951\n",
    "output = []\n",
    "first_term = int(x)\n",
    "leftover = x-int(x)\n",
    "output.append(first_term)\n",
    "\n",
    "# Now we will have to find a continued fraction for the leftover"
   ]
  },
  {
   "cell_type": "code",
   "execution_count": 9,
   "id": "93e6737f",
   "metadata": {},
   "outputs": [],
   "source": [
    "# we will be repeating the process of taking a reciprocal of a decimal part and finding the integer to the left of the decimal part\n",
    "\n",
    "next_term = math.floor(1/leftover)\n",
    "leftover = 1/leftover - next_term\n",
    "output.append(next_term)"
   ]
  },
  {
   "cell_type": "code",
   "execution_count": 10,
   "id": "b5913406",
   "metadata": {},
   "outputs": [
    {
     "data": {
      "text/plain": [
       "[1, 2]"
      ]
     },
     "execution_count": 10,
     "metadata": {},
     "output_type": "execute_result"
    }
   ],
   "source": [
    "output"
   ]
  },
  {
   "cell_type": "code",
   "execution_count": 11,
   "id": "b8c3b744",
   "metadata": {},
   "outputs": [],
   "source": [
    "# Putting the whole repeateting process into a function we get\n",
    "\n",
    "def continued_fraction_decimal(x,error_tolerance, length_tolerance):\n",
    "    output = []\n",
    "    first_term = int(x)\n",
    "    leftover = x-int(x)\n",
    "    output.append(first_term)\n",
    "    error = leftover   #exiting the prgrm after we get close enough to the solution as the fractions are infinitely repeating\n",
    "    while error > error_tolerance and len(output)<length_tolerance:\n",
    "        next_term = math.floor(1/leftover)\n",
    "        leftover = 1/leftover - next_term \n",
    "        output.append(next_term)\n",
    "        error = abs(get_number(output) - x)\n",
    "    return(output)"
   ]
  },
  {
   "cell_type": "code",
   "execution_count": 12,
   "id": "12ffc306",
   "metadata": {},
   "outputs": [
    {
     "name": "stdout",
     "output_type": "stream",
     "text": [
      "[1, 2, 2, 2, 2, 2, 2, 2]\n"
     ]
    }
   ],
   "source": [
    "print(continued_fraction_decimal(1.4142135623730951,0.00001,100))"
   ]
  },
  {
   "cell_type": "markdown",
   "id": "55b9f82a",
   "metadata": {},
   "source": [
    "# Square Roots"
   ]
  },
  {
   "cell_type": "markdown",
   "id": "eb343ff2",
   "metadata": {},
   "source": [
    "There is baiscally an algorithm that a claculator needs to use to get the output of getting sine values or root values since both of them have no concrete expressions to calculate easily from"
   ]
  },
  {
   "cell_type": "markdown",
   "id": "5ba39d02",
   "metadata": {},
   "source": [
    "# the babylonian algorithm"
   ]
  },
  {
   "cell_type": "markdown",
   "id": "2a95fa01",
   "metadata": {},
   "source": [
    "this algorithm is basically what we used to do for finding the root\n",
    "\n",
    "suppose we need to find the sqroot of the number x. \n",
    "\n",
    "we will assume our best guess for the square root of a number x is y\n",
    "\n",
    "if our guess is not exactly the root of x, we will want to guess again and we will want our next guess to take us closer to the tru value of x\n",
    "\n",
    "this algorithm will provide a systematic way to improve out guesses until we converge no the right answer"
   ]
  },
  {
   "cell_type": "markdown",
   "id": "4045afc8",
   "metadata": {},
   "source": [
    "steps will be as follows:\n",
    "    \n",
    "    1. Make a guess y, for the value of sqroot x\n",
    "    2. calculate: z = x/y\n",
    "    3. Find the average of z and y. This average will be the new value of y, or our new guess for the value of the square root of x\n",
    "    4. Repeat the steps 2 ad 3 until y^2-x is sufficiently small"
   ]
  },
  {
   "cell_type": "markdown",
   "id": "10520256",
   "metadata": {},
   "source": [
    "## Overall the babylon algorithm can combine all the four points mentioned above and can be represented in the following context"
   ]
  },
  {
   "cell_type": "markdown",
   "id": "0353d7c4",
   "metadata": {},
   "source": [
    "yn+1 = (yn + x/yn)/2"
   ]
  },
  {
   "cell_type": "markdown",
   "id": "70f7c849",
   "metadata": {},
   "source": [
    "if y is an underestimate for the correct value of root x than the output z i.e. x**2/y**2 will be an overestimate\n",
    "\n",
    "if y is an overestimate than z would be an underestimate\n",
    "\n",
    "step 3 of babylon is to take average of 1 overestimate and one underestimate so the new estimate will be closer to the truth than whichever y or z was the worst guess. Eventually after many rounds of gradual improvement of our guesses, we arrive at the tru value of root x"
   ]
  },
  {
   "cell_type": "markdown",
   "id": "cdea435e",
   "metadata": {},
   "source": [
    "# Square roots in python"
   ]
  },
  {
   "cell_type": "markdown",
   "id": "59cb61aa",
   "metadata": {},
   "source": [
    "babylonian is not hard to implement in python"
   ]
  },
  {
   "cell_type": "code",
   "execution_count": 3,
   "id": "0f422ca2",
   "metadata": {},
   "outputs": [],
   "source": [
    "def square_root(x,y,error_tolerance):\n",
    "    our_error = error_tolerance * 2\n",
    "    while(our_error>error_tolerance):\n",
    "        z = x/y\n",
    "        y = (y+z)/2\n",
    "        our_error = y**2 - x\n",
    "    return y"
   ]
  },
  {
   "cell_type": "code",
   "execution_count": 4,
   "id": "bdc2680b",
   "metadata": {},
   "outputs": [
    {
     "name": "stdout",
     "output_type": "stream",
     "text": [
      "2.23606797749979\n"
     ]
    }
   ],
   "source": [
    "print(square_root(5,1,.000000000000001))"
   ]
  },
  {
   "cell_type": "code",
   "execution_count": 6,
   "id": "3676e5dc",
   "metadata": {},
   "outputs": [],
   "source": [
    "import math"
   ]
  },
  {
   "cell_type": "code",
   "execution_count": 7,
   "id": "f89b4666",
   "metadata": {},
   "outputs": [
    {
     "name": "stdout",
     "output_type": "stream",
     "text": [
      "2.23606797749979\n"
     ]
    }
   ],
   "source": [
    "print(math.sqrt(5))"
   ]
  },
  {
   "cell_type": "markdown",
   "id": "4d30a153",
   "metadata": {},
   "source": [
    "# Random number generators"
   ]
  },
  {
   "cell_type": "markdown",
   "id": "cf8d1360",
   "metadata": {},
   "source": [
    "a computer can basically not generate random numbers and hence we have managed to only generate <b>sudo-random numbers "
   ]
  },
  {
   "cell_type": "markdown",
   "id": "8d33a174",
   "metadata": {},
   "source": [
    "## Linear congruential generators (LCGs)"
   ]
  },
  {
   "cell_type": "markdown",
   "id": "d858bd3b",
   "metadata": {},
   "source": [
    "the simplest"
   ]
  },
  {
   "cell_type": "code",
   "execution_count": 1,
   "id": "aafe5ffa",
   "metadata": {},
   "outputs": [],
   "source": [
    "# for implementation simply choose n1, n2, n3 and then the LCG starts with this equation as follows\n",
    "\n",
    "# next = (previous*n1*n2)*modn3"
   ]
  },
  {
   "cell_type": "code",
   "execution_count": 2,
   "id": "40cac003",
   "metadata": {},
   "outputs": [],
   "source": [
    "# As we know % is mod\n",
    "\n",
    "def next_random(previous, n1, n2, n3):\n",
    "    the_next = (previous*n1 + n2)%n3\n",
    "    return(the_next)"
   ]
  },
  {
   "cell_type": "markdown",
   "id": "dde09ff1",
   "metadata": {},
   "source": [
    "The number of values which we will get unique looking like random before again generating the same number and pattern is known as the period of PRNG"
   ]
  },
  {
   "cell_type": "code",
   "execution_count": 3,
   "id": "ea896d7b",
   "metadata": {},
   "outputs": [],
   "source": [
    "def list_random(n1,n2,n3):\n",
    "    output = [1]\n",
    "    while len(output) <=n3:\n",
    "        output.append(next_random(output[len(output) - 1],n1,n2,n3))\n",
    "    return(output)"
   ]
  },
  {
   "cell_type": "markdown",
   "id": "498233d7",
   "metadata": {},
   "source": [
    "# Testing out whether the output is truly random - Diehard tests"
   ]
  },
  {
   "cell_type": "markdown",
   "id": "8dfc196c",
   "metadata": {},
   "source": [
    "### There are 12 diehard tests and each of the test evaluates the collection of random numbers in a different way.\n",
    "\n",
    "the numbers which pass all these tests are deemed to be a very strong resemblance of true randomness"
   ]
  },
  {
   "cell_type": "markdown",
   "id": "8def61c5",
   "metadata": {},
   "source": [
    "one of the test is the <b> the overlapping sums test"
   ]
  },
  {
   "cell_type": "markdown",
   "id": "b48d5d62",
   "metadata": {},
   "source": [
    "takes the sums of collection of consecutive numbers from the list and it should follow a pattern of bell curve"
   ]
  },
  {
   "cell_type": "code",
   "execution_count": 5,
   "id": "5acc8adb",
   "metadata": {},
   "outputs": [],
   "source": [
    "def overlappingsums(thelist, sumlength):\n",
    "    lengthoflist = len(thelist)\n",
    "    thelist.extend(thelist)\n",
    "    output = []\n",
    "    for n in range(0, lengthoflist):\n",
    "        output.append(sum(thelist[n:(n+sumlength)]))\n",
    "    return output"
   ]
  },
  {
   "cell_type": "code",
   "execution_count": 8,
   "id": "46e87697",
   "metadata": {},
   "outputs": [
    {
     "data": {
      "image/png": "[encoded data removed]",
      "text/plain": [
       "<Figure size 640x480 with 1 Axes>"
      ]
     },
     "metadata": {},
     "output_type": "display_data"
    }
   ],
   "source": [
    "# Running the code on a new random as below\n",
    "\n",
    "import matplotlib.pyplot as plt\n",
    "overlap = overlappingsums(list_random(1111, 11111, 30007), 12)\n",
    "plt.hist(overlap, 20, facecolor = 'blue', alpha = 0.5)\n",
    "plt.xlabel('Sum of Elements of Overlapping Consecutive Sections of List')\n",
    "plt.ylabel('Frequency of Sum')\n",
    "plt.show()"
   ]
  },
  {
   "cell_type": "markdown",
   "id": "a6e233fb",
   "metadata": {},
   "source": [
    "If the graph generated follows a bell curve, then it is said to show true randomness"
   ]
  },
  {
   "cell_type": "markdown",
   "id": "8cb05548",
   "metadata": {},
   "source": [
    "# A more advanced and reliable way to generate randomness = Linear feedback shift registers"
   ]
  },
  {
   "cell_type": "code",
   "execution_count": 9,
   "id": "5c6830f6",
   "metadata": {},
   "outputs": [],
   "source": [
    "bits = [1,1,1]"
   ]
  },
  {
   "cell_type": "markdown",
   "id": "24bb1e3d",
   "metadata": {},
   "source": [
    "### to implement xor, just take a sum and then mod 2 "
   ]
  },
  {
   "cell_type": "code",
   "execution_count": 10,
   "id": "43485c08",
   "metadata": {},
   "outputs": [],
   "source": [
    "xor_result = (bits[1]+bits[2])%2"
   ]
  },
  {
   "cell_type": "code",
   "execution_count": 11,
   "id": "96f1f6c2",
   "metadata": {},
   "outputs": [],
   "source": [
    "output = bits.pop()"
   ]
  },
  {
   "cell_type": "code",
   "execution_count": 12,
   "id": "dbcb48f6",
   "metadata": {},
   "outputs": [],
   "source": [
    "#Now insert sums in the bits to generate the new random value\n",
    "bits.insert(0,xor_result)"
   ]
  },
  {
   "cell_type": "code",
   "execution_count": 13,
   "id": "c10c3601",
   "metadata": {},
   "outputs": [],
   "source": [
    "# Putting it all together so that it will generate a pseudo random bit and a new state for the bit series\n",
    "\n",
    "def feedbackshift(bits):\n",
    "    xor_result = (bits[1]+bits[2])%2\n",
    "    output = bits.pop()\n",
    "    bits.insert(0,xor_result)\n",
    "    return (bits, output)"
   ]
  },
  {
   "cell_type": "code",
   "execution_count": 14,
   "id": "2431ea24",
   "metadata": {},
   "outputs": [],
   "source": [
    "#Now making a function that will generate an entire list of output bits just like the function for LCG\n",
    "\n",
    "def feedbackshiftlist(bits_this):\n",
    "    bits_output = [bits_this.copy()]\n",
    "    random_output = []\n",
    "    bits_next = bits_this.copy()\n",
    "    while(len(bits_output)<2**len(bits_this)):\n",
    "        bits_next, next = feedbackshift(bits_next)\n",
    "        bits_output.append(bits_next.copy())\n",
    "        random_output.append(next)\n",
    "    return(bits_output, random_output)"
   ]
  },
  {
   "cell_type": "code",
   "execution_count": 15,
   "id": "4db028ce",
   "metadata": {},
   "outputs": [],
   "source": [
    "# in the above case we run the while loop until we expect the series to repeat\n",
    "\n",
    "# since there are 2**3 = 8 possible states for our bitlist, we can expect a period of atmost 8. Actually\n",
    "#LSFRs typically cannot output a full set of 0s, so in practice we expect a period of at most 2**3 -1 = 7\n"
   ]
  },
  {
   "cell_type": "code",
   "execution_count": 16,
   "id": "c2d26a73",
   "metadata": {},
   "outputs": [],
   "source": [
    "bitslist = feedbackshiftlist([1,1,1])[0]"
   ]
  },
  {
   "cell_type": "code",
   "execution_count": 17,
   "id": "b3b76f44",
   "metadata": {},
   "outputs": [
    {
     "data": {
      "text/plain": [
       "[[1, 1, 1],\n",
       " [0, 1, 1],\n",
       " [0, 0, 1],\n",
       " [1, 0, 0],\n",
       " [0, 1, 0],\n",
       " [1, 0, 1],\n",
       " [1, 1, 0],\n",
       " [1, 1, 1]]"
      ]
     },
     "execution_count": 17,
     "metadata": {},
     "output_type": "execute_result"
    }
   ],
   "source": [
    "bitslist"
   ]
  },
  {
   "cell_type": "markdown",
   "id": "4a6c7d67",
   "metadata": {},
   "source": [
    "we can also check the list of our pseudorandom bits that our simple LFSR generates as follows"
   ]
  },
  {
   "cell_type": "code",
   "execution_count": 18,
   "id": "199bbb63",
   "metadata": {},
   "outputs": [],
   "source": [
    "pseudorandombits = feedbackshiftlist([1,1,1])[1]"
   ]
  },
  {
   "cell_type": "code",
   "execution_count": 19,
   "id": "9eb4a1b0",
   "metadata": {},
   "outputs": [
    {
     "data": {
      "text/plain": [
       "[1, 1, 1, 0, 0, 1, 0]"
      ]
     },
     "execution_count": 19,
     "metadata": {},
     "output_type": "execute_result"
    }
   ],
   "source": [
    "pseudorandombits"
   ]
  },
  {
   "cell_type": "markdown",
   "id": "c8727306",
   "metadata": {},
   "source": [
    "# The most widely used PRNG is Mersenne Twister, which is a modified LFSR"
   ]
  },
  {
   "cell_type": "code",
   "execution_count": null,
   "id": "682ac3ae",
   "metadata": {},
   "outputs": [],
   "source": []
  }
 ],
 "metadata": {
  "kernelspec": {
   "display_name": "Python 3 (ipykernel)",
   "language": "python",
   "name": "python3"
  },
  "language_info": {
   "codemirror_mode": {
    "name": "ipython",
    "version": 3
   },
   "file_extension": ".py",
   "mimetype": "text/x-python",
   "name": "python",
   "nbconvert_exporter": "python",
   "pygments_lexer": "ipython3",
   "version": "3.11.4"
  }
 },
 "nbformat": 4,
 "nbformat_minor": 5
}
