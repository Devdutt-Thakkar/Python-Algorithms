{
 "cells": [
  {
   "cell_type": "markdown",
   "id": "9459b841",
   "metadata": {},
   "source": [
    "# Implementing Russian peasent multiplication"
   ]
  },
  {
   "cell_type": "code",
   "execution_count": 1,
   "id": "92d94ae5",
   "metadata": {},
   "outputs": [],
   "source": [
    "# Considering that we want to multiply 2 numbers \n",
    "\n",
    "n1 = 89\n",
    "n2 = 18"
   ]
  },
  {
   "cell_type": "code",
   "execution_count": 2,
   "id": "76526168",
   "metadata": {},
   "outputs": [
    {
     "name": "stdout",
     "output_type": "stream",
     "text": [
      "44\n"
     ]
    }
   ],
   "source": [
    "# we will start to make the halving columns first\n",
    "halving = [n1]\n",
    "#The next entry we will be halving is halving[0]/2, ignoring the remainder\n",
    "# We will be using math.floor() function to accomplish this\n",
    "\n",
    "import math\n",
    "print(math.floor(halving[0]/2))"
   ]
  },
  {
   "cell_type": "code",
   "execution_count": 3,
   "id": "a026c3ba",
   "metadata": {},
   "outputs": [],
   "source": [
    "# We will loop through each row of the halving column as follows until we reach 1\n",
    "while(min(halving)>1):\n",
    "    halving.append(math.floor(min(halving)/2))\n",
    "    \n",
    "#This loop uses the append() methosd for concatenation. At each iteration of the while loop, it concatenates the halving of its last value, using the math.floor() function to ignore the remainder."
   ]
  },
  {
   "cell_type": "code",
   "execution_count": 4,
   "id": "a5cbe239",
   "metadata": {},
   "outputs": [],
   "source": [
    "# For the doubling column, we can do the same: start with 18, and then continue through a loop. In each iteration of the loop, we will add double the column entry to the doubling column, and we will stop after this column is the same lenght as the halving column\n",
    "\n",
    "doubling = [n2]\n",
    "while (len(doubling)<len(halving)):\n",
    "    doubling.append(max(doubling)*2)"
   ]
  },
  {
   "cell_type": "code",
   "execution_count": 5,
   "id": "27cb83f9",
   "metadata": {},
   "outputs": [],
   "source": [
    "# Finally putting these columns together in a dataframe called half_double:\n",
    "import pandas as pd\n",
    "half_double = pd.DataFrame(zip(halving, doubling))"
   ]
  },
  {
   "cell_type": "code",
   "execution_count": 6,
   "id": "cd488e9b",
   "metadata": {},
   "outputs": [],
   "source": [
    "# Now we will remove the rows whose entries in the halving column are even\n",
    "\n",
    "half_double = half_double.loc[half_double[0]%2 == 1,:]\n",
    "\n",
    "# In the above code, half_double[0] indicates the first column, after the , we say we want all the rest of the columns\n",
    "# Hence it looks like this, this is what loc does, loc is of the form loc[row, column]"
   ]
  },
  {
   "cell_type": "code",
   "execution_count": 7,
   "id": "3528e51e",
   "metadata": {},
   "outputs": [],
   "source": [
    "# Finally we will be taking the sum of the remaining doubling entries\n",
    "\n",
    "answer = sum(half_double.loc[:,1])"
   ]
  },
  {
   "cell_type": "code",
   "execution_count": 8,
   "id": "a7d95d0a",
   "metadata": {},
   "outputs": [
    {
     "data": {
      "text/plain": [
       "1602"
      ]
     },
     "execution_count": 8,
     "metadata": {},
     "output_type": "execute_result"
    }
   ],
   "source": [
    "answer"
   ]
  },
  {
   "cell_type": "markdown",
   "id": "b14241e1",
   "metadata": {},
   "source": [
    "# Euclid's Algorithm"
   ]
  },
  {
   "cell_type": "markdown",
   "id": "cb2bfcee",
   "metadata": {},
   "source": [
    "It is a method to find the greatest common divisor of two numbers"
   ]
  },
  {
   "cell_type": "markdown",
   "id": "01726374",
   "metadata": {},
   "source": [
    "let there be 2 numbers a and b where a is larger than b, then\n",
    "\n",
    "a = q1*b + c\n",
    "\n",
    "where q1 is the quotient and c is the remainder"
   ]
  },
  {
   "cell_type": "markdown",
   "id": "7b77237f",
   "metadata": {},
   "source": [
    "then we forget about a and focus on b and c"
   ]
  },
  {
   "cell_type": "markdown",
   "id": "73b0d177",
   "metadata": {},
   "source": [
    "hence,\n",
    "\n",
    "b = q2*c + d\n",
    "\n",
    "then we focus on c and hence\n",
    "\n",
    "c = q3*d + e\n",
    "\n",
    "we repeat this process until the we find that the remainder i.e. e is 0, and if e is 0, then the largest common divisor of the 2 original numbers is d"
   ]
  },
  {
   "cell_type": "markdown",
   "id": "7f1cc656",
   "metadata": {},
   "source": [
    "## Implementation"
   ]
  },
  {
   "cell_type": "code",
   "execution_count": 9,
   "id": "b6282e8e",
   "metadata": {},
   "outputs": [],
   "source": [
    "def gcd(x,y):\n",
    "    larger = max(x,y)\n",
    "    smaller = min(x,y)\n",
    "    \n",
    "    remainder = larger%smaller\n",
    "    \n",
    "    if remainder == 0:\n",
    "        return smaller\n",
    "    \n",
    "    if remainder!=0:\n",
    "        return(gcd(smaller, remainder))"
   ]
  },
  {
   "cell_type": "markdown",
   "id": "3a1bc662",
   "metadata": {},
   "source": [
    "notice that we are doing recursion"
   ]
  },
  {
   "cell_type": "markdown",
   "id": "183e3fef",
   "metadata": {},
   "source": [
    "# Japanese magic squares"
   ]
  },
  {
   "cell_type": "markdown",
   "id": "6ddc0dd2",
   "metadata": {},
   "source": [
    "A magic square is an array of unique, consequtive natural numbers such that all rows, all columns, and both of the main diagonals have the same sum. A magic square can be of any size like 3x3 and etc"
   ]
  },
  {
   "cell_type": "markdown",
   "id": "1b034a41",
   "metadata": {},
   "source": [
    "One of the most famous magic squares is the Luo Shu square.\n",
    "\n",
    "According to an ancient chinese legend the square was first seen incsribed on the back of a turtle which had come out as a response to suffering people's prayers\n",
    "\n",
    "The magic square being talked about looks like this\n",
    "\n",
    "    4. 9. 2\n",
    "    3. 5. 7\n",
    "    8. 1. 6\n",
    "    \n",
    "In addition to the definitional pattern that each row, column and diagonal sum up to 15, there are a few other patterns that can be seen as well\n",
    "\n",
    "such as 4,5,6 appear in the main diagonal, and the outer ring of numbers alternate between even and odd numbers"
   ]
  },
  {
   "cell_type": "markdown",
   "id": "3df14b70",
   "metadata": {},
   "source": [
    "We can create the luo shu square with the following command in python:\n",
    "    \n",
    "    "
   ]
  },
  {
   "cell_type": "code",
   "execution_count": 10,
   "id": "c4b189fd",
   "metadata": {},
   "outputs": [],
   "source": [
    "luoshu = [[4,9,2],[3,5,7],[8,1,6]]"
   ]
  },
  {
   "cell_type": "code",
   "execution_count": 11,
   "id": "a19a6bca",
   "metadata": {},
   "outputs": [],
   "source": [
    "# It will come in handy to check whether a given matrix is a magic square or not.\n",
    "\n",
    "# The following function does this by verifying the sums accross all rows, columns and diagonals and then checking whether they are all same:\n",
    "\n",
    "def verifysquare(square):\n",
    "    sums = []\n",
    "    rowsums = [sum(square[i]) for i in range(0, len(square))]\n",
    "    sums.append(rowsums)\n",
    "    colsums = [sum(row[i] for row in square) for i in range(0, len(square))]\n",
    "    sums.append(colsums)\n",
    "    maindiag = sum([square[i][i] for i in range(0,len(square))])\n",
    "    sums.append([maindiag])\n",
    "    atidiag = sum([square[i][len(square) -1 -i] for i in range(o, len(square))])\n",
    "    sums.append(atidiag)\n",
    "    flattened = [j for i in sums for j in i]\n",
    "    return(len(list(set(flattened))) == 1)"
   ]
  },
  {
   "cell_type": "markdown",
   "id": "9cc069da",
   "metadata": {},
   "source": [
    "# Implementing Kurushima's algorithm "
   ]
  },
  {
   "cell_type": "markdown",
   "id": "6a57a982",
   "metadata": {},
   "source": [
    "being complex and lengthy algorithm to create magic squares, this algorithm only works on creating magic squares where the magic squares are of odd dimensions"
   ]
  },
  {
   "cell_type": "markdown",
   "id": "0ae3bf3b",
   "metadata": {},
   "source": [
    "meaning that it works for any nxn square if n is an odd number"
   ]
  },
  {
   "cell_type": "markdown",
   "id": "2002bbea",
   "metadata": {},
   "source": [
    "It begins by filling out the center of the square that matches the luo shu square. In particular, the central five squares are given by the follwing expressions"
   ]
  },
  {
   "cell_type": "markdown",
   "id": "8f6eb910",
   "metadata": {},
   "source": [
    "            n^2\n",
    "    n       ((n^2)+1)/2.       (n^2)+1-n\n",
    "            1\n",
    "            "
   ]
  },
  {
   "cell_type": "markdown",
   "id": "e6ab96c1",
   "metadata": {},
   "source": [
    "the above algorithm for generating magic squares can be described simply as follows\n",
    "\n",
    "    1. Fill in the five central squares according to the above table\n",
    "    2. Beginning with any entry whose value is known, determine the value of an unknown neighboring entry by following one of the three rules\n",
    "    3. repeat step 2 until every entery in the magic square is filled in"
   ]
  },
  {
   "cell_type": "markdown",
   "id": "dce41728",
   "metadata": {},
   "source": [
    "## Filling in the central squares"
   ]
  },
  {
   "cell_type": "markdown",
   "id": "6562559f",
   "metadata": {},
   "source": [
    "we can begin the process of creating a magic square by creating an empty square matrix that we will fill up.\n",
    "For example if we want to create a 7x7 matrix, we can define n=7 and then create a matrix with n rows and n columns:\n",
    "    "
   ]
  },
  {
   "cell_type": "code",
   "execution_count": 12,
   "id": "7629294e",
   "metadata": {},
   "outputs": [],
   "source": [
    "n = 7\n",
    "square = [[float('nan') for i in range(0,n)] for j in range(0,n)]"
   ]
  },
  {
   "cell_type": "code",
   "execution_count": 13,
   "id": "3f290ccf",
   "metadata": {},
   "outputs": [
    {
     "name": "stdout",
     "output_type": "stream",
     "text": [
      "[[nan, nan, nan, nan, nan, nan, nan], [nan, nan, nan, nan, nan, nan, nan], [nan, nan, nan, nan, nan, nan, nan], [nan, nan, nan, nan, nan, nan, nan], [nan, nan, nan, nan, nan, nan, nan], [nan, nan, nan, nan, nan, nan, nan], [nan, nan, nan, nan, nan, nan, nan]]\n"
     ]
    }
   ],
   "source": [
    "print(square)"
   ]
  },
  {
   "cell_type": "code",
   "execution_count": 14,
   "id": "5ed3b6f0",
   "metadata": {},
   "outputs": [],
   "source": [
    "# we can write a function that will print the above matrix in a more readable way as follow\n",
    "\n",
    "def printsquare(square):\n",
    "    labels = ['['+str(x)+']' for x in range(0,len(square))]\n",
    "    format_row = '{:>6}'*(len(labels)+1)\n",
    "    print(format_row.format(\"\", *labels))\n",
    "    for label, row in zip(labels, square):\n",
    "        print(format_row.format(label, *row))"
   ]
  },
  {
   "cell_type": "code",
   "execution_count": 15,
   "id": "c6ac89cb",
   "metadata": {},
   "outputs": [
    {
     "name": "stdout",
     "output_type": "stream",
     "text": [
      "         [0]   [1]   [2]   [3]   [4]   [5]   [6]\n",
      "   [0]   nan   nan   nan   nan   nan   nan   nan\n",
      "   [1]   nan   nan   nan   nan   nan   nan   nan\n",
      "   [2]   nan   nan   nan   nan   nan   nan   nan\n",
      "   [3]   nan   nan   nan   nan   nan   nan   nan\n",
      "   [4]   nan   nan   nan   nan   nan   nan   nan\n",
      "   [5]   nan   nan   nan   nan   nan   nan   nan\n",
      "   [6]   nan   nan   nan   nan   nan   nan   nan\n"
     ]
    }
   ],
   "source": [
    "printsquare(square)"
   ]
  },
  {
   "cell_type": "code",
   "execution_count": 16,
   "id": "ad1889ec",
   "metadata": {},
   "outputs": [],
   "source": [
    "# First we can get the indices of the central entry as follows:\n",
    "\n",
    "import math\n",
    "center_i = math.floor(n/2)\n",
    "center_j = math.floor(n/2)"
   ]
  },
  {
   "cell_type": "code",
   "execution_count": 17,
   "id": "7057c3b9",
   "metadata": {},
   "outputs": [],
   "source": [
    "# the central 5 squares according to the table can be populated as follows:\n",
    "\n",
    "square[center_i][center_j] = int((n**2 +1)/2)\n",
    "square[center_i+1][center_j] = 1\n",
    "square[center_i-1][center_j] = n**2\n",
    "square[center_i][center_j+1] = n**2 + 1 - n\n",
    "square[center_i][center_j-1] = n"
   ]
  },
  {
   "cell_type": "markdown",
   "id": "220a8cc5",
   "metadata": {},
   "source": [
    "## Specifying the three rules"
   ]
  },
  {
   "cell_type": "markdown",
   "id": "0b99dd6a",
   "metadata": {},
   "source": [
    "### RULE 1:\n",
    "for any x in the magic square we can determine the entry that is siyuated in this diagonal relationship to x by simply adding n and taking the result mod (n^2)(mod referes to the modulo operation). Ofcourse, we can also go in the opposite direction by reversing the operation: subtracting n and taking the result mod(n^2)\n",
    "    \n",
    "    the x being talked about here is represented as something like this\n",
    "    \n",
    "    []                 [x]\n",
    "    [x+n(mod(n^2))]    []"
   ]
  },
  {
   "cell_type": "markdown",
   "id": "0513fde9",
   "metadata": {},
   "source": [
    "### RULE 2:\n",
    "\n",
    "for any x in the magic square, the entry below and to the right of x is 1 greater than x, mod n^2. This is a sumple rule, but it has one important exception: this rule is not followed when we cross from the upper left half of the magic square to the lower right half of the magic square, basically this rule is not followed when crossing the magic squares antidiagonal, i.e. the bottom left to top right line\n",
    "\n",
    "the rule being talked about looks something like this:\n",
    "\n",
    "    [x]     []\n",
    "    [].     [x+1(mod(n^2))]"
   ]
  },
  {
   "cell_type": "markdown",
   "id": "f8bc7be8",
   "metadata": {},
   "source": [
    "### RULE 3:\n",
    "we need the exceptional 3rd rule to deal with the cell that is fully above the anti diagonal line and crossing to a cell that is fully below it or vice versa\n",
    "\n",
    "while crossing the antidiagonal x-n+1(mod(n^2)) is followed, it can be understanded like this\n",
    "\n",
    "    [x]      []\n",
    "    []       [x-n+1(mod(n^2))]\n",
    "    \n",
    "    and x+n-1(mod(n^2)) when inversed"
   ]
  },
  {
   "cell_type": "code",
   "execution_count": 18,
   "id": "95cb9bc7",
   "metadata": {},
   "outputs": [],
   "source": [
    "### The simple implementation of rule 1\n",
    "\n",
    "def rule1(x,n):\n",
    "    return((x+n)%n**2)"
   ]
  },
  {
   "cell_type": "code",
   "execution_count": 19,
   "id": "d9a67add",
   "metadata": {},
   "outputs": [
    {
     "name": "stdout",
     "output_type": "stream",
     "text": [
      "8\n"
     ]
    }
   ],
   "source": [
    "print(rule1(5,3))"
   ]
  },
  {
   "cell_type": "code",
   "execution_count": 20,
   "id": "a248bc40",
   "metadata": {},
   "outputs": [],
   "source": [
    "# we can now improve it by enabling go in reverse option and we will call our argument upright\n",
    "def rule1(x,n,upright):\n",
    "    return((x+ ((-1)**upright)*n)%n**2)"
   ]
  },
  {
   "cell_type": "code",
   "execution_count": 21,
   "id": "b52ca9df",
   "metadata": {},
   "outputs": [
    {
     "name": "stdout",
     "output_type": "stream",
     "text": [
      "7\n"
     ]
    }
   ],
   "source": [
    "print(rule1(1,3,True))"
   ]
  },
  {
   "cell_type": "code",
   "execution_count": 22,
   "id": "3a9f193d",
   "metadata": {},
   "outputs": [],
   "source": [
    "# Introducing rule 2\n",
    "def rule2(x,n,upleft):\n",
    "    return((x+((-1)**upleft))%n**2)"
   ]
  },
  {
   "cell_type": "code",
   "execution_count": 23,
   "id": "56c16c3b",
   "metadata": {},
   "outputs": [],
   "source": [
    "# Rule 3 will be\n",
    "def rule3(x,n,upleft):\n",
    "    return((x+((-1)**upleft * (-n+1)))%n**2)"
   ]
  },
  {
   "cell_type": "markdown",
   "id": "da7ef333",
   "metadata": {},
   "source": [
    "## Filling the rest of the square"
   ]
  },
  {
   "cell_type": "code",
   "execution_count": 24,
   "id": "d608f7ae",
   "metadata": {},
   "outputs": [],
   "source": [
    "# One way to fill in the square is to walk randomly through it, using known entries to fill in the unknown entries\n",
    "\n",
    "center_i = math.floor(n/2)\n",
    "center_j = math.floor(n/2)\n",
    "\n",
    "#then we can randomly select a direction to walk\n",
    "import random\n",
    "entry_i = center_i\n",
    "entry_j = center_j\n",
    "where_we_can_go = ['up_left', 'up_right', 'down_left', 'down_right']\n",
    "where_to_go = random.choice(where_we_can_go)"
   ]
  },
  {
   "cell_type": "code",
   "execution_count": 25,
   "id": "858e65a8",
   "metadata": {},
   "outputs": [],
   "source": [
    "if where_to_go == 'up_right':\n",
    "    new_entryi = entry_i - 1\n",
    "    new_entryj = entry_j + 1\n",
    "    square[new_entryi][new_entryj] = rule1(square[entry_i][entry_j], n, True)\n"
   ]
  },
  {
   "cell_type": "code",
   "execution_count": 29,
   "id": "0fb34a78",
   "metadata": {},
   "outputs": [],
   "source": [
    "# Similarly executing all we get\n",
    "import random\n",
    "def fillsquare(square,entry_i,entry_j,howfull):\n",
    "    while(sum(math.isnan(i) for row in square for i in row) > howfull):\n",
    "        where_we_can_go = []\n",
    "        if(entry_i < (n - 1) and entry_j < (n - 1)):\n",
    "            where_we_can_go.append('down_right')\n",
    "        if(entry_i < (n - 1) and entry_j > 0):\n",
    "            where_we_can_go.append('down_left')\n",
    "        if(entry_i > 0 and entry_j < (n - 1)):\n",
    "            where_we_can_go.append('up_right')\n",
    "        if(entry_i > 0 and entry_j > 0):\n",
    "            where_we_can_go.append('up_left')\n",
    "            \n",
    "        where_to_go = random.choice(where_we_can_go)\n",
    "        if(where_to_go == 'up_right'):\n",
    "            new_entry_i = entry_i - 1\n",
    "            new_entry_j = entry_j + 1\n",
    "            square[new_entry_i][new_entry_j] = rule1(square[entry_i][entry_j],n,True)\n",
    "        if(where_to_go == 'down_left'):\n",
    "            new_entry_i = entry_i + 1\n",
    "            new_entry_j = entry_j - 1\n",
    "            square[new_entry_i][new_entry_j] = rule1(square[entry_i][entry_j],n,False)\n",
    "        if(where_to_go == 'up_left' and (entry_i + entry_j) != (n)):\n",
    "            new_entry_i = entry_i - 1\n",
    "            new_entry_j = entry_j - 1\n",
    "            square[new_entry_i][new_entry_j] = rule2(square[entry_i][entry_j],n,True)\n",
    "        if(where_to_go == 'down_right' and (entry_i + entry_j) != (n-2)):\n",
    "            new_entry_i = entry_i + 1\n",
    "            new_entry_j = entry_j + 1\n",
    "            square[new_entry_i][new_entry_j] = rule2(square[entry_i][entry_j],n,False)\n",
    "        if(where_to_go == 'up_left' and (entry_i + entry_j) == (n)):\n",
    "            new_entry_i = entry_i - 1\n",
    "            new_entry_j = entry_j - 1\n",
    "            square[new_entry_i][new_entry_j] = rule3(square[entry_i][entry_j],n,True)\n",
    "        if(where_to_go == 'down_right' and (entry_i + entry_j) == (n-2)):\n",
    "            new_entry_i = entry_i + 1\n",
    "            new_entry_j = entry_j + 1\n",
    "            square[new_entry_i][new_entry_j] = rule3(square[entry_i][entry_j],n,False)\n",
    "        entry_i = new_entry_i\n",
    "        entry_j = new_entry_j\n",
    "    return(square)"
   ]
  },
  {
   "cell_type": "code",
   "execution_count": 32,
   "id": "304d1f91",
   "metadata": {},
   "outputs": [],
   "source": [
    "## Using the right arguments which are a square with some nan entries as the frst arg, scnd and thrd being the indices of the entry that we want to start with and the final arg which is for the how much we want to fill up the square which is measured by the number of nan entries we are willing to tolerate\n",
    "n = 7\n",
    "entry_i = math.floor(n/2)\n",
    "entry_j = math.floor(n/2)\n",
    "\n",
    "square = fillsquare(square, entry_i, entry_j, (n**2)/2 - 4)"
   ]
  },
  {
   "cell_type": "code",
   "execution_count": 33,
   "id": "0c0a7f49",
   "metadata": {},
   "outputs": [
    {
     "name": "stdout",
     "output_type": "stream",
     "text": [
      "         [0]   [1]   [2]   [3]   [4]   [5]   [6]\n",
      "   [0]    22   nan    16   nan    10   nan   nan\n",
      "   [1]   nan    23   nan    17   nan    11   nan\n",
      "   [2]    30   nan    24    49    18   nan    12\n",
      "   [3]   nan    31     7    25    43    19   nan\n",
      "   [4]    38   nan    32     1    26   nan    20\n",
      "   [5]    14    39   nan    33   nan    27   nan\n",
      "   [6]    46    15    40   nan    34   nan   nan\n"
     ]
    }
   ],
   "source": [
    "printsquare(square)"
   ]
  },
  {
   "cell_type": "code",
   "execution_count": 38,
   "id": "67f2f493",
   "metadata": {},
   "outputs": [],
   "source": [
    "entry_i = math.floor(n/2)+1\n",
    "entry_j = math.floor(n/2)\n",
    "\n",
    "square = fillsquare(square, entry_i, entry_j, 2)"
   ]
  },
  {
   "cell_type": "code",
   "execution_count": 39,
   "id": "60f8c3a8",
   "metadata": {},
   "outputs": [
    {
     "name": "stdout",
     "output_type": "stream",
     "text": [
      "         [0]   [1]   [2]   [3]   [4]   [5]   [6]\n",
      "   [0]    22    47    16    41    10    35   nan\n",
      "   [1]     5    23    48    17    42    11    29\n",
      "   [2]    30     6    24     0    18    36    12\n",
      "   [3]    13    31     7    25    43    19    37\n",
      "   [4]    38    14    32     1    26    44    20\n",
      "   [5]    21    39     8    33     2    27    45\n",
      "   [6]    46    15    40     9    34     3   nan\n"
     ]
    }
   ],
   "source": [
    "printsquare(square)"
   ]
  },
  {
   "cell_type": "code",
   "execution_count": null,
   "id": "08c25688",
   "metadata": {},
   "outputs": [],
   "source": []
  }
 ],
 "metadata": {
  "kernelspec": {
   "display_name": "Python 3 (ipykernel)",
   "language": "python",
   "name": "python3"
  },
  "language_info": {
   "codemirror_mode": {
    "name": "ipython",
    "version": 3
   },
   "file_extension": ".py",
   "mimetype": "text/x-python",
   "name": "python",
   "nbconvert_exporter": "python",
   "pygments_lexer": "ipython3",
   "version": "3.11.4"
  }
 },
 "nbformat": 4,
 "nbformat_minor": 5
}
