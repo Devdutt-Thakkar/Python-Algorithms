{
 "cells": [
  {
   "cell_type": "markdown",
   "id": "54c17e2c",
   "metadata": {},
   "source": [
    "# The insertion algorithm"
   ]
  },
  {
   "cell_type": "code",
   "execution_count": 1,
   "id": "90f6e60b",
   "metadata": {},
   "outputs": [],
   "source": [
    "cabinet = [1,2,3,3,4,6,8,12]"
   ]
  },
  {
   "cell_type": "code",
   "execution_count": 2,
   "id": "ade0e5be",
   "metadata": {},
   "outputs": [],
   "source": [
    "to_insert = 5"
   ]
  },
  {
   "cell_type": "code",
   "execution_count": 3,
   "id": "0e580cd5",
   "metadata": {},
   "outputs": [],
   "source": [
    "check_location = len(cabinet) - 1"
   ]
  },
  {
   "cell_type": "code",
   "execution_count": 4,
   "id": "708938e2",
   "metadata": {},
   "outputs": [],
   "source": [
    "insert_location = 0"
   ]
  },
  {
   "cell_type": "code",
   "execution_count": 5,
   "id": "749ff7a7",
   "metadata": {},
   "outputs": [],
   "source": [
    "if to_insert>cabinet[check_location]:\n",
    "    insert_location = check_location + 1"
   ]
  },
  {
   "cell_type": "code",
   "execution_count": 6,
   "id": "4513d3db",
   "metadata": {},
   "outputs": [],
   "source": [
    "cabinet.insert(insert_location, to_insert)"
   ]
  },
  {
   "cell_type": "markdown",
   "id": "bd1d8ae2",
   "metadata": {},
   "source": [
    "Putting all the above steps into algorithm"
   ]
  },
  {
   "cell_type": "code",
   "execution_count": 7,
   "id": "c992f305",
   "metadata": {},
   "outputs": [
    {
     "name": "stdout",
     "output_type": "stream",
     "text": [
      "[5, 1, 2, 3, 3, 4, 5, 6, 8, 12]\n"
     ]
    }
   ],
   "source": [
    "def insert_cabinet(cabinet, to_insert):\n",
    "    check_location = len(cabinet) -1\n",
    "    insert_location = 0\n",
    "    while(check_location >= 0):\n",
    "        if to_insert>cabinet[check_location]:\n",
    "            insert_location = check_location+1\n",
    "            check_location =-1\n",
    "        check_location -= 1\n",
    "    cabinet.insert(insert_location, to_insert)\n",
    "    return(cabinet)\n",
    "\n",
    "newcabinet = insert_cabinet(cabinet, 5)\n",
    "print(newcabinet)"
   ]
  },
  {
   "cell_type": "markdown",
   "id": "0f152e36",
   "metadata": {},
   "source": [
    "# Insertion sort"
   ]
  },
  {
   "cell_type": "markdown",
   "id": "72a96a3d",
   "metadata": {},
   "source": [
    "We will start with an unsorted cabinet and an empty onem"
   ]
  },
  {
   "cell_type": "code",
   "execution_count": 21,
   "id": "4a857d9c",
   "metadata": {},
   "outputs": [],
   "source": [
    "cabinet = [8,4,6,1,2,5,3,7]\n",
    "newcabinet= []"
   ]
  },
  {
   "cell_type": "markdown",
   "id": "a86848c9",
   "metadata": {},
   "source": [
    "we implement insertion sort by repeatedly calling the insert_cabinet function"
   ]
  },
  {
   "cell_type": "code",
   "execution_count": 10,
   "id": "57527cb5",
   "metadata": {},
   "outputs": [],
   "source": [
    "to_insert = cabinet.pop(0)\n",
    "newcabinet = insert_cabinet(newcabinet, to_insert)"
   ]
  },
  {
   "cell_type": "markdown",
   "id": "f5eb0eb1",
   "metadata": {},
   "source": [
    "Putting all this together in the above code we will get insertion sort"
   ]
  },
  {
   "cell_type": "code",
   "execution_count": 4,
   "id": "d4add36c",
   "metadata": {},
   "outputs": [
    {
     "data": {
      "text/plain": [
       "[1, 2, 3, 4, 5, 6, 7, 8]"
      ]
     },
     "execution_count": 4,
     "metadata": {},
     "output_type": "execute_result"
    }
   ],
   "source": [
    "def insertion_sort(cabinet):\n",
    "    newcabinet = []\n",
    "    while len(cabinet)>0:\n",
    "        to_insert = cabinet.pop(0)\n",
    "        newcabinet = insert_cabinet(newcabinet, to_insert)\n",
    "    return newcabinet\n",
    "\n",
    "sortedcabinet = insertion_sort(cabinet)\n",
    "sortedcabinet"
   ]
  },
  {
   "cell_type": "code",
   "execution_count": 5,
   "id": "4ac70586",
   "metadata": {},
   "outputs": [],
   "source": [
    "# Refreshing how the insertion sort ke andar ka insertcabinet func worked\n",
    "def insertcabinet(cabinet, to_insert):\n",
    "    check_location = len(cabinet) - 1\n",
    "    insert_location = 0\n",
    "    while(check_location > 0):\n",
    "        if(cabinet[check_location]<to_insert):\n",
    "            insert_location = check_location+1\n",
    "            check_location = -1\n",
    "        check_location -= 1\n",
    "    cabinet.insert(insert_location, to_insert)\n",
    "    return cabinet"
   ]
  },
  {
   "cell_type": "markdown",
   "id": "4d891c6b",
   "metadata": {},
   "source": [
    "# Measuring time precisely"
   ]
  },
  {
   "cell_type": "code",
   "execution_count": 6,
   "id": "ad47308f",
   "metadata": {},
   "outputs": [
    {
     "name": "stdout",
     "output_type": "stream",
     "text": [
      "0.00018070800001623866\n"
     ]
    }
   ],
   "source": [
    "from timeit import default_timer as timer\n",
    "\n",
    "start = timer()\n",
    "cabinet = [8,4,6,1,2,5,3,7]\n",
    "sortedcabinet = insertion_sort(cabinet)\n",
    "end = timer()\n",
    "print(end-start)"
   ]
  },
  {
   "cell_type": "code",
   "execution_count": 26,
   "id": "6f1c9479",
   "metadata": {},
   "outputs": [
    {
     "name": "stdout",
     "output_type": "stream",
     "text": [
      "[1, 2, 3, 4, 5, 6, 7, 8]\n"
     ]
    }
   ],
   "source": [
    "print(sortedcabinet)"
   ]
  },
  {
   "cell_type": "markdown",
   "id": "e843ccad",
   "metadata": {},
   "source": [
    "# More reliable than counting execution time is counting steps"
   ]
  },
  {
   "cell_type": "code",
   "execution_count": 1,
   "id": "da1364be",
   "metadata": {},
   "outputs": [],
   "source": [
    "def insert_cabinet(cabinet, to_insert):\n",
    "    check_location = len(cabinet) - 1\n",
    "    insert_location = 0\n",
    "    global stepcounter\n",
    "    while(check_location>=0):\n",
    "        stepcounter += 1\n",
    "        if to_insert>cabinet[check_location]:\n",
    "            insert_location = check_location+1\n",
    "            check_location = -1\n",
    "        check_location -= 1\n",
    "    stepcounter +=1\n",
    "    cabinet.insert(insert_location, to_insert)\n",
    "    return cabinet"
   ]
  },
  {
   "cell_type": "code",
   "execution_count": 2,
   "id": "bcd09f60",
   "metadata": {},
   "outputs": [],
   "source": [
    "def insertion_sort(cabinet):\n",
    "    newcabinet = []\n",
    "    global stepcounter\n",
    "    while len(cabinet)>0:\n",
    "        stepcounter+=1\n",
    "        to_insert = cabinet.pop(0)\n",
    "        newcabinet = insert_cabinet(cabinet, to_insert)\n",
    "    return newcabinet"
   ]
  },
  {
   "cell_type": "code",
   "execution_count": 3,
   "id": "0240ffa4",
   "metadata": {},
   "outputs": [
    {
     "ename": "KeyboardInterrupt",
     "evalue": "",
     "output_type": "error",
     "traceback": [
      "\u001b[0;31m---------------------------------------------------------------------------\u001b[0m",
      "\u001b[0;31mKeyboardInterrupt\u001b[0m                         Traceback (most recent call last)",
      "Cell \u001b[0;32mIn[3], line 4\u001b[0m\n\u001b[1;32m      2\u001b[0m cabinet \u001b[38;5;241m=\u001b[39m [\u001b[38;5;241m8\u001b[39m,\u001b[38;5;241m4\u001b[39m,\u001b[38;5;241m6\u001b[39m,\u001b[38;5;241m1\u001b[39m,\u001b[38;5;241m2\u001b[39m,\u001b[38;5;241m5\u001b[39m,\u001b[38;5;241m3\u001b[39m,\u001b[38;5;241m7\u001b[39m]\n\u001b[1;32m      3\u001b[0m stepcounter \u001b[38;5;241m=\u001b[39m \u001b[38;5;241m0\u001b[39m\n\u001b[0;32m----> 4\u001b[0m sortedcabinet \u001b[38;5;241m=\u001b[39m insertion_sort(cabinet)\n\u001b[1;32m      5\u001b[0m \u001b[38;5;28mprint\u001b[39m(sortedcabinet)\n\u001b[1;32m      6\u001b[0m \u001b[38;5;28mprint\u001b[39m(stepcounter)\n",
      "Cell \u001b[0;32mIn[2], line 7\u001b[0m, in \u001b[0;36minsertion_sort\u001b[0;34m(cabinet)\u001b[0m\n\u001b[1;32m      5\u001b[0m     stepcounter\u001b[38;5;241m+\u001b[39m\u001b[38;5;241m=\u001b[39m\u001b[38;5;241m1\u001b[39m\n\u001b[1;32m      6\u001b[0m     to_insert \u001b[38;5;241m=\u001b[39m cabinet\u001b[38;5;241m.\u001b[39mpop(\u001b[38;5;241m0\u001b[39m)\n\u001b[0;32m----> 7\u001b[0m     newcabinet \u001b[38;5;241m=\u001b[39m insert_cabinet(cabinet, to_insert)\n\u001b[1;32m      8\u001b[0m \u001b[38;5;28;01mreturn\u001b[39;00m newcabinet\n",
      "Cell \u001b[0;32mIn[1], line 12\u001b[0m, in \u001b[0;36minsert_cabinet\u001b[0;34m(cabinet, to_insert)\u001b[0m\n\u001b[1;32m     10\u001b[0m     check_location \u001b[38;5;241m-\u001b[39m\u001b[38;5;241m=\u001b[39m \u001b[38;5;241m1\u001b[39m\n\u001b[1;32m     11\u001b[0m stepcounter \u001b[38;5;241m+\u001b[39m\u001b[38;5;241m=\u001b[39m\u001b[38;5;241m1\u001b[39m\n\u001b[0;32m---> 12\u001b[0m cabinet\u001b[38;5;241m.\u001b[39minsert(insert_location, to_insert)\n\u001b[1;32m     13\u001b[0m \u001b[38;5;28;01mreturn\u001b[39;00m cabinet\n",
      "\u001b[0;31mKeyboardInterrupt\u001b[0m: "
     ]
    }
   ],
   "source": [
    "global stepcounter\n",
    "cabinet = [8,4,6,1,2,5,3,7]\n",
    "stepcounter = 0\n",
    "sortedcabinet = insertion_sort(cabinet)\n",
    "print(sortedcabinet)\n",
    "print(stepcounter)"
   ]
  },
  {
   "cell_type": "markdown",
   "id": "c8de013e",
   "metadata": {},
   "source": [
    "Since the maximum time that the function can take is big O of n**2, we need functions that take lesser time than insertion sort"
   ]
  },
  {
   "cell_type": "markdown",
   "id": "f7c02008",
   "metadata": {},
   "source": [
    "# Merge Sort"
   ]
  },
  {
   "cell_type": "markdown",
   "id": "bce4fcef",
   "metadata": {},
   "source": [
    "It is a quicker algorithm than insertion sort and also uses 2 lists and a part that repeatedly uses merging to accomplish the actual sorting"
   ]
  },
  {
   "cell_type": "markdown",
   "id": "68f6bd65",
   "metadata": {},
   "source": [
    "#### Suppose we want to merge two filling cabinets and they both have been sorted but never been compared to each other, we want to combine their contents into one filing cabinet that is also sorted"
   ]
  },
  {
   "cell_type": "code",
   "execution_count": 7,
   "id": "d3938d06",
   "metadata": {},
   "outputs": [],
   "source": [
    "# lets name the cabinets with sorted files as left and right"
   ]
  },
  {
   "cell_type": "code",
   "execution_count": 8,
   "id": "5c92bbd7",
   "metadata": {},
   "outputs": [],
   "source": [
    "left = [1,3,4,4,5,7,8,9]\n",
    "right = [2,4,6,7,8,8,10,12,13,14]"
   ]
  },
  {
   "cell_type": "code",
   "execution_count": 9,
   "id": "6bb1120a",
   "metadata": {},
   "outputs": [],
   "source": [
    "# the new file cabinet will be\n",
    "newcabinet = []"
   ]
  },
  {
   "cell_type": "markdown",
   "id": "5d5b6f86",
   "metadata": {},
   "source": [
    "#### now we will setup an algo, which keep comparing the first values of the strings and then the value with the smaller value keep getting popped and put into the newcabinet"
   ]
  },
  {
   "cell_type": "markdown",
   "id": "ff45233e",
   "metadata": {},
   "source": [
    "then if one gets over sooner than the other we will just run a for loop in the leftover string and append all its values into the latest list"
   ]
  },
  {
   "cell_type": "code",
   "execution_count": 20,
   "id": "4c0ad7a4",
   "metadata": {},
   "outputs": [],
   "source": [
    "# The full code\n",
    "\n",
    "def merging(left, right):\n",
    "    newcabinet = []\n",
    "    while(min(len(left), len(right))>0):\n",
    "        if left[0]>right[0]:\n",
    "            to_insert = right.pop(0)\n",
    "            newcabinet.append(to_insert)\n",
    "        elif left[0]<=right[0]:\n",
    "            to_insert = left.pop(0)\n",
    "            newcabinet.append(to_insert)\n",
    "    if(len(right)>0):\n",
    "        for i in right:\n",
    "            newcabinet.append(i)\n",
    "    if(len(left)>0):\n",
    "        for i in left:\n",
    "            newcabinet.append(i)\n",
    "    return newcabinet\n",
    "\n",
    "left = [1,3,4,4,5,7,8,9]\n",
    "right = [2,4,6,7,8,8,10,12,13,14]\n",
    "\n",
    "newcab = merging(left, right)"
   ]
  },
  {
   "cell_type": "code",
   "execution_count": 21,
   "id": "91485383",
   "metadata": {},
   "outputs": [
    {
     "data": {
      "text/plain": [
       "[1, 2, 3, 4, 4, 4, 5, 6, 7, 7, 8, 8, 8, 9, 10, 12, 13, 14]"
      ]
     },
     "execution_count": 21,
     "metadata": {},
     "output_type": "execute_result"
    }
   ],
   "source": [
    "newcab"
   ]
  },
  {
   "cell_type": "markdown",
   "id": "1cba022c",
   "metadata": {},
   "source": [
    "## From merging to sorting"
   ]
  },
  {
   "cell_type": "code",
   "execution_count": 22,
   "id": "80a42aa0",
   "metadata": {},
   "outputs": [],
   "source": [
    "import math\n",
    "\n",
    "def mergesorttwoelements(cabinet):\n",
    "    newcabinet= []\n",
    "    if(len(cabinet) == 1):\n",
    "        newcabinet = cabinet\n",
    "    else:\n",
    "        left = cabinet[:math.floor(len(cabint)/2)]\n",
    "        right = cabinet[math.floor(len(cabint)/2):]\n",
    "        newcabinet = merging(left, right)\n",
    "    return newcabinet"
   ]
  },
  {
   "cell_type": "markdown",
   "id": "8342cf10",
   "metadata": {},
   "source": [
    "# Revision to merge sort"
   ]
  },
  {
   "cell_type": "markdown",
   "id": "5202f634",
   "metadata": {},
   "source": [
    "## 1st. Merge algorithm"
   ]
  },
  {
   "cell_type": "code",
   "execution_count": 6,
   "id": "57f4f405",
   "metadata": {},
   "outputs": [],
   "source": [
    "import math"
   ]
  },
  {
   "cell_type": "code",
   "execution_count": 7,
   "id": "5576a3b5",
   "metadata": {},
   "outputs": [],
   "source": [
    "def merging(left, right):\n",
    "    newcabinet = []\n",
    "    while(min(len(left), len(right))>0):\n",
    "        if left[0] < right[0]:\n",
    "            to_add = left.pop(0)\n",
    "            newcabinet.append(to_add)\n",
    "        if right[0] < left[0]:\n",
    "            to_add = right.pop(0)\n",
    "            newcabinet.append(to_add)\n",
    "    if len(left)>0:\n",
    "        for i in left:\n",
    "            newcabinet.append(i)\n",
    "    if len(right)>0:\n",
    "        for i in right:\n",
    "            newcabinet.append(i)\n",
    "        \n",
    "    return newcabinet"
   ]
  },
  {
   "cell_type": "markdown",
   "id": "f524c7b0",
   "metadata": {},
   "source": [
    "## 2nd. Sort and merge i.e. Merge sort"
   ]
  },
  {
   "cell_type": "code",
   "execution_count": 8,
   "id": "5288c28c",
   "metadata": {},
   "outputs": [],
   "source": [
    "def mergesort(cabinet):\n",
    "    newcabinet = []\n",
    "    if len(cabinet) == 1:\n",
    "        newcabinet = cabinet\n",
    "    else:\n",
    "        left = cabinet[:math.floor(len(cabinet)/2)]\n",
    "        right = cabinet[math.floor(len(cabinet)/2):]\n",
    "        newcabinet = merging(left, right)\n",
    "    return newcabinet"
   ]
  },
  {
   "cell_type": "code",
   "execution_count": 9,
   "id": "5f19ac71",
   "metadata": {},
   "outputs": [],
   "source": [
    "cabinet = [2,4,6,7,8,8,10,12,13,14]"
   ]
  },
  {
   "cell_type": "code",
   "execution_count": 10,
   "id": "c0ca798f",
   "metadata": {},
   "outputs": [
    {
     "ename": "KeyboardInterrupt",
     "evalue": "",
     "output_type": "error",
     "traceback": [
      "\u001b[0;31m---------------------------------------------------------------------------\u001b[0m",
      "\u001b[0;31mKeyboardInterrupt\u001b[0m                         Traceback (most recent call last)",
      "Cell \u001b[0;32mIn[10], line 1\u001b[0m\n\u001b[0;32m----> 1\u001b[0m \u001b[38;5;28mprint\u001b[39m(mergesort(cabinet))\n",
      "Cell \u001b[0;32mIn[8], line 8\u001b[0m, in \u001b[0;36mmergesort\u001b[0;34m(cabinet)\u001b[0m\n\u001b[1;32m      6\u001b[0m     left \u001b[38;5;241m=\u001b[39m cabinet[:math\u001b[38;5;241m.\u001b[39mfloor(\u001b[38;5;28mlen\u001b[39m(cabinet)\u001b[38;5;241m/\u001b[39m\u001b[38;5;241m2\u001b[39m)]\n\u001b[1;32m      7\u001b[0m     right \u001b[38;5;241m=\u001b[39m cabinet[math\u001b[38;5;241m.\u001b[39mfloor(\u001b[38;5;28mlen\u001b[39m(cabinet)\u001b[38;5;241m/\u001b[39m\u001b[38;5;241m2\u001b[39m):]\n\u001b[0;32m----> 8\u001b[0m     newcabinet \u001b[38;5;241m=\u001b[39m merging(left, right)\n\u001b[1;32m      9\u001b[0m \u001b[38;5;28;01mreturn\u001b[39;00m newcabinet\n",
      "Cell \u001b[0;32mIn[7], line 3\u001b[0m, in \u001b[0;36mmerging\u001b[0;34m(left, right)\u001b[0m\n\u001b[1;32m      1\u001b[0m \u001b[38;5;28;01mdef\u001b[39;00m \u001b[38;5;21mmerging\u001b[39m(left, right):\n\u001b[1;32m      2\u001b[0m     newcabinet \u001b[38;5;241m=\u001b[39m []\n\u001b[0;32m----> 3\u001b[0m     \u001b[38;5;28;01mwhile\u001b[39;00m(\u001b[38;5;28mmin\u001b[39m(\u001b[38;5;28mlen\u001b[39m(left), \u001b[38;5;28mlen\u001b[39m(right))\u001b[38;5;241m>\u001b[39m\u001b[38;5;241m0\u001b[39m):\n\u001b[1;32m      4\u001b[0m         \u001b[38;5;28;01mif\u001b[39;00m left[\u001b[38;5;241m0\u001b[39m] \u001b[38;5;241m<\u001b[39m right[\u001b[38;5;241m0\u001b[39m]:\n\u001b[1;32m      5\u001b[0m             to_add \u001b[38;5;241m=\u001b[39m left\u001b[38;5;241m.\u001b[39mpop(\u001b[38;5;241m0\u001b[39m)\n",
      "\u001b[0;31mKeyboardInterrupt\u001b[0m: "
     ]
    }
   ],
   "source": [
    "print(mergesort(cabinet))"
   ]
  },
  {
   "cell_type": "markdown",
   "id": "43fe3dc8",
   "metadata": {},
   "source": [
    "# Updated merge sort function to further reduce time "
   ]
  },
  {
   "cell_type": "code",
   "execution_count": 11,
   "id": "23d4425e",
   "metadata": {},
   "outputs": [
    {
     "ename": "KeyboardInterrupt",
     "evalue": "",
     "output_type": "error",
     "traceback": [
      "\u001b[0;31m---------------------------------------------------------------------------\u001b[0m",
      "\u001b[0;31mKeyboardInterrupt\u001b[0m                         Traceback (most recent call last)",
      "Cell \u001b[0;32mIn[11], line 31\u001b[0m\n\u001b[1;32m     28\u001b[0m     \u001b[38;5;28;01mreturn\u001b[39;00m newcabinet\n\u001b[1;32m     30\u001b[0m cabinet \u001b[38;5;241m=\u001b[39m [\u001b[38;5;241m4\u001b[39m,\u001b[38;5;241m1\u001b[39m,\u001b[38;5;241m3\u001b[39m,\u001b[38;5;241m2\u001b[39m,\u001b[38;5;241m6\u001b[39m,\u001b[38;5;241m3\u001b[39m,\u001b[38;5;241m18\u001b[39m,\u001b[38;5;241m2\u001b[39m,\u001b[38;5;241m9\u001b[39m,\u001b[38;5;241m7\u001b[39m,\u001b[38;5;241m3\u001b[39m,\u001b[38;5;241m1\u001b[39m,\u001b[38;5;241m2.5\u001b[39m,\u001b[38;5;241m-\u001b[39m\u001b[38;5;241m9\u001b[39m]\n\u001b[0;32m---> 31\u001b[0m newcabinet\u001b[38;5;241m=\u001b[39mmergesort(cabinet)\n",
      "Cell \u001b[0;32mIn[11], line 25\u001b[0m, in \u001b[0;36mmergesort\u001b[0;34m(cabinet)\u001b[0m\n\u001b[1;32m     23\u001b[0m     newcabinet \u001b[38;5;241m=\u001b[39m cabinet\n\u001b[1;32m     24\u001b[0m \u001b[38;5;28;01melse\u001b[39;00m:\n\u001b[0;32m---> 25\u001b[0m     left \u001b[38;5;241m=\u001b[39m mergesort(cabinet[:math\u001b[38;5;241m.\u001b[39mfloor(\u001b[38;5;28mlen\u001b[39m(cabinet)\u001b[38;5;241m/\u001b[39m\u001b[38;5;241m2\u001b[39m)])\n\u001b[1;32m     26\u001b[0m     right \u001b[38;5;241m=\u001b[39m mergesort(cabinet[math\u001b[38;5;241m.\u001b[39mfloor(\u001b[38;5;28mlen\u001b[39m(cabinet)\u001b[38;5;241m/\u001b[39m\u001b[38;5;241m2\u001b[39m):])\n\u001b[1;32m     27\u001b[0m     newcabinet \u001b[38;5;241m=\u001b[39m mergin(left, right)\n",
      "Cell \u001b[0;32mIn[11], line 27\u001b[0m, in \u001b[0;36mmergesort\u001b[0;34m(cabinet)\u001b[0m\n\u001b[1;32m     25\u001b[0m     left \u001b[38;5;241m=\u001b[39m mergesort(cabinet[:math\u001b[38;5;241m.\u001b[39mfloor(\u001b[38;5;28mlen\u001b[39m(cabinet)\u001b[38;5;241m/\u001b[39m\u001b[38;5;241m2\u001b[39m)])\n\u001b[1;32m     26\u001b[0m     right \u001b[38;5;241m=\u001b[39m mergesort(cabinet[math\u001b[38;5;241m.\u001b[39mfloor(\u001b[38;5;28mlen\u001b[39m(cabinet)\u001b[38;5;241m/\u001b[39m\u001b[38;5;241m2\u001b[39m):])\n\u001b[0;32m---> 27\u001b[0m     newcabinet \u001b[38;5;241m=\u001b[39m mergin(left, right)\n\u001b[1;32m     28\u001b[0m \u001b[38;5;28;01mreturn\u001b[39;00m newcabinet\n",
      "Cell \u001b[0;32mIn[11], line 3\u001b[0m, in \u001b[0;36mmergin\u001b[0;34m(left, right)\u001b[0m\n\u001b[1;32m      1\u001b[0m \u001b[38;5;28;01mdef\u001b[39;00m \u001b[38;5;21mmergin\u001b[39m(left, right):\n\u001b[1;32m      2\u001b[0m     newcabinet \u001b[38;5;241m=\u001b[39m []\n\u001b[0;32m----> 3\u001b[0m     \u001b[38;5;28;01mwhile\u001b[39;00m(\u001b[38;5;28mmin\u001b[39m(\u001b[38;5;28mlen\u001b[39m(left), \u001b[38;5;28mlen\u001b[39m(right))\u001b[38;5;241m>\u001b[39m\u001b[38;5;241m0\u001b[39m):\n\u001b[1;32m      4\u001b[0m         \u001b[38;5;28;01mif\u001b[39;00m left[\u001b[38;5;241m0\u001b[39m]\u001b[38;5;241m>\u001b[39mright[\u001b[38;5;241m0\u001b[39m]:\n\u001b[1;32m      5\u001b[0m             to_add \u001b[38;5;241m=\u001b[39m right\u001b[38;5;241m.\u001b[39mpop(\u001b[38;5;241m0\u001b[39m)\n",
      "\u001b[0;31mKeyboardInterrupt\u001b[0m: "
     ]
    }
   ],
   "source": [
    "def mergin(left, right):\n",
    "    newcabinet = []\n",
    "    while(min(len(left), len(right))>0):\n",
    "        if left[0]>right[0]:\n",
    "            to_add = right.pop(0)\n",
    "            newcabinet.append(to_add)\n",
    "        elif right[0]>left[0]:\n",
    "            to_add = left.pop(0)\n",
    "            newcabinet.append(to_add)\n",
    "    if len(right)>0:\n",
    "        for i in right:\n",
    "            newcabinet.append(i)\n",
    "    elif len(left)>0:\n",
    "        for i in left:\n",
    "            newcabinet.append(i)\n",
    "    return newcabinet\n",
    "\n",
    "import math\n",
    "\n",
    "def mergesort(cabinet):\n",
    "    newcabinet = []\n",
    "    if(len(cabinet) == 1):\n",
    "        newcabinet = cabinet\n",
    "    else:\n",
    "        left = mergesort(cabinet[:math.floor(len(cabinet)/2)])\n",
    "        right = mergesort(cabinet[math.floor(len(cabinet)/2):])\n",
    "        newcabinet = mergin(left, right)\n",
    "    return newcabinet\n",
    "\n",
    "cabinet = [4,1,3,2,6,3,18,2,9,7,3,1,2.5,-9]\n",
    "newcabinet=mergesort(cabinet)"
   ]
  },
  {
   "cell_type": "markdown",
   "id": "9a0e7d52",
   "metadata": {},
   "source": [
    "# Now we will create the quickest sorting algorithm"
   ]
  },
  {
   "cell_type": "markdown",
   "id": "bb680be7",
   "metadata": {},
   "source": [
    "# Sleep Sort"
   ]
  },
  {
   "cell_type": "markdown",
   "id": "0aac0ce5",
   "metadata": {},
   "source": [
    "without doing any comparisions, rely on the individual's ability to pause for a length of time proportional to the metric we want to sort on and then insert themselves, and the sorting would happen effortlessly after that - with no direct inter personal comparisions"
   ]
  },
  {
   "cell_type": "markdown",
   "id": "e7749b95",
   "metadata": {},
   "source": [
    "from a programming perspective these pauses are called sleeps"
   ]
  },
  {
   "cell_type": "code",
   "execution_count": 14,
   "id": "7dd9f275",
   "metadata": {},
   "outputs": [],
   "source": [
    "import threading\n",
    "from time import sleep\n",
    "\n",
    "def sleep_sort(i):\n",
    "    sleep(i)\n",
    "    global sortedlist\n",
    "    sortedlist.append(i)\n",
    "    return i\n",
    "\n",
    "items = [2,4,5,7,2,1,6,8,7]\n",
    "sortedlist = []\n",
    "ignore_result = [threading.Thread(target = sleep_sort, args = (i,)).start() for i in items]"
   ]
  },
  {
   "cell_type": "code",
   "execution_count": 15,
   "id": "cbac1fe0",
   "metadata": {},
   "outputs": [
    {
     "data": {
      "text/plain": [
       "[2, 4, 5, 7, 2, 1, 6, 8, 7]"
      ]
     },
     "execution_count": 15,
     "metadata": {},
     "output_type": "execute_result"
    }
   ],
   "source": [
    "items"
   ]
  },
  {
   "cell_type": "code",
   "execution_count": 16,
   "id": "b7c640c9",
   "metadata": {},
   "outputs": [
    {
     "data": {
      "text/plain": [
       "[None, None, None, None, None, None, None, None, None]"
      ]
     },
     "execution_count": 16,
     "metadata": {},
     "output_type": "execute_result"
    }
   ],
   "source": [
    "ignore_result "
   ]
  },
  {
   "cell_type": "code",
   "execution_count": 17,
   "id": "696c738a",
   "metadata": {},
   "outputs": [
    {
     "data": {
      "text/plain": [
       "[1, 2, 2, 4, 5, 6, 7, 7, 8]"
      ]
     },
     "execution_count": 17,
     "metadata": {},
     "output_type": "execute_result"
    }
   ],
   "source": [
    "sortedlist"
   ]
  },
  {
   "cell_type": "markdown",
   "id": "f53484a7",
   "metadata": {},
   "source": [
    "# again revising threading and sleep sort"
   ]
  },
  {
   "cell_type": "code",
   "execution_count": 19,
   "id": "4d38be06",
   "metadata": {},
   "outputs": [],
   "source": [
    "import threading\n",
    "from time import sleep\n",
    "\n",
    "def sleepit(i):\n",
    "    sleep(i)\n",
    "    global newlist\n",
    "    newlist.append(i)\n",
    "    return i\n",
    "newlist = []\n",
    "items = [2,4,5,2,3,1,5,3,2]\n",
    "sortedlis = []\n",
    "ignore_res = [threading.Thread(target = sleepit, args = (i,)).start() for i in items]"
   ]
  },
  {
   "cell_type": "code",
   "execution_count": 21,
   "id": "83d50b0d",
   "metadata": {},
   "outputs": [
    {
     "data": {
      "text/plain": [
       "[1, 2, 2, 2, 3, 3, 4, 5, 5]"
      ]
     },
     "execution_count": 21,
     "metadata": {},
     "output_type": "execute_result"
    }
   ],
   "source": [
    "newlist"
   ]
  },
  {
   "cell_type": "markdown",
   "id": "8bbbdfb5",
   "metadata": {},
   "source": [
    "# From sorting to searching"
   ]
  },
  {
   "cell_type": "markdown",
   "id": "6db586b2",
   "metadata": {},
   "source": [
    "It is said that sorting is the difficult part, lool"
   ]
  },
  {
   "cell_type": "markdown",
   "id": "ae6d7d8b",
   "metadata": {},
   "source": [
    "# Binary search"
   ]
  },
  {
   "cell_type": "markdown",
   "id": "17ce6bb7",
   "metadata": {},
   "source": [
    "Binary search is a quick and effective method for searching for an element in a <b>sorted list"
   ]
  },
  {
   "cell_type": "markdown",
   "id": "f8571313",
   "metadata": {},
   "source": [
    "Binary search has a guessing time of O(log(n))"
   ]
  },
  {
   "cell_type": "code",
   "execution_count": 22,
   "id": "4ff1f400",
   "metadata": {},
   "outputs": [],
   "source": [
    "# The implementation consists of defining an upper and lower bound\n",
    "sorted_cabinet = [1,2,3,4,5]\n",
    "upperbound = len(sorted_cabinet)\n",
    "lowerbound = 0"
   ]
  },
  {
   "cell_type": "markdown",
   "id": "4ae47bf8",
   "metadata": {},
   "source": [
    "to start we will guess that the file is in the middle of the cabinet, we do this guessing in the middle to get the max possible information"
   ]
  },
  {
   "cell_type": "code",
   "execution_count": 24,
   "id": "cfc35781",
   "metadata": {},
   "outputs": [],
   "source": [
    "import math\n",
    "guess = math.floor(len(sorted_cabinet)/2)"
   ]
  },
  {
   "cell_type": "markdown",
   "id": "bf569144",
   "metadata": {},
   "source": [
    "if(sorted_cabinet[guess]>looking_for):\n",
    "    \n",
    "    upperbound = guess\n",
    "    \n",
    "    guess = math.floor((guess + lowerbound)/2)\n",
    "\n",
    "elif sorted_cabinet[guess]<looking_for:\n",
    "    \n",
    "    lowerbound = guess\n",
    "    \n",
    "    guess = math.floor((guess+upperbound)/2)"
   ]
  },
  {
   "cell_type": "code",
   "execution_count": 25,
   "id": "a23586e9",
   "metadata": {},
   "outputs": [
    {
     "name": "stdout",
     "output_type": "stream",
     "text": [
      "9\n"
     ]
    }
   ],
   "source": [
    "# putting it all together \n",
    "\n",
    "import math\n",
    "sortedcabinet = [1,2,2,3,4,4,5,6,7,8,9,10]\n",
    "\n",
    "def binarysearch(cabinet, looking_for):\n",
    "    guess = math.floor(len(sortedcabinet)/2)\n",
    "    upperbound = len(sortedcabinet)\n",
    "    lowerbound = 0\n",
    "    while abs(sortedcabinet[guess] - looking_for)>0.0001:\n",
    "        if sortedcabinet[guess]>looking_for:\n",
    "            upperbound = guess\n",
    "            guess = math.floor((guess+lowerbound)/2)\n",
    "        elif sortedcabinet[guess]<looking_for:\n",
    "            lowerbound = guess\n",
    "            guess = math.floor((upperbound+guess)/2)\n",
    "    return guess\n",
    "\n",
    "print(binarysearch(sortedcabinet, 8))"
   ]
  },
  {
   "cell_type": "code",
   "execution_count": null,
   "id": "c6ba4c44",
   "metadata": {},
   "outputs": [],
   "source": []
  }
 ],
 "metadata": {
  "kernelspec": {
   "display_name": "Python 3 (ipykernel)",
   "language": "python",
   "name": "python3"
  },
  "language_info": {
   "codemirror_mode": {
    "name": "ipython",
    "version": 3
   },
   "file_extension": ".py",
   "mimetype": "text/x-python",
   "name": "python",
   "nbconvert_exporter": "python",
   "pygments_lexer": "ipython3",
   "version": "3.11.4"
  }
 },
 "nbformat": 4,
 "nbformat_minor": 5
}
