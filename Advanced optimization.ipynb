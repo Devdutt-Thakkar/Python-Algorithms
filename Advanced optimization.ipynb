{
 "cells": [
  {
   "cell_type": "markdown",
   "id": "a4891806",
   "metadata": {},
   "source": [
    "# Setting up the problem which is the travelling salesman problem"
   ]
  },
  {
   "cell_type": "markdown",
   "id": "0f3e3726",
   "metadata": {},
   "source": [
    "we will randomly generate a map for our salesman to traverse from. We start with selecting some number N that will represent the number of cities we want on the map.\n",
    "\n",
    "Lets say N = 40 sets of coordinates: one x and one y value for each city, we will use the numpy volume for the random selection"
   ]
  },
  {
   "cell_type": "code",
   "execution_count": 1,
   "id": "25bb27eb",
   "metadata": {},
   "outputs": [],
   "source": [
    "import numpy as np\n",
    "random_seed = 1729\n",
    "np.random.seed(random_seed)\n",
    "N = 40\n",
    "x = np.random.rand(N)\n",
    "y = np.random.rand(N)"
   ]
  },
  {
   "cell_type": "code",
   "execution_count": 2,
   "id": "0bcfa661",
   "metadata": {},
   "outputs": [],
   "source": [
    "# we will basically zip the values of x and y together to create cities, a list containing 40 pairs of x and y values is basically generated\n",
    "points = zip(x,y)\n",
    "cities = list(points)"
   ]
  },
  {
   "cell_type": "code",
   "execution_count": 3,
   "id": "a47105a2",
   "metadata": {},
   "outputs": [
    {
     "name": "stdout",
     "output_type": "stream",
     "text": [
      "[(0.21215859519373315, 0.1421890509660515), (0.25901824052776146, 0.4415438502354807), (0.42352187994602863, 0.6384708617951832), (0.7196610137879806, 0.4541115917001236), (0.6922509256107934, 0.9795099465634718), (0.7281748161649396, 0.497003900057289), (0.2875498733527475, 0.987892114481641), (0.25408333020469553, 0.9438765028592432), (0.9609289991025697, 0.31254425748246295), (0.5652066087690863, 0.527268363065508), (0.0669470282293596, 0.743806143933605), (0.7333909009768429, 0.9080655744313583), (0.5097899289931794, 0.9438536218932465), (0.2275735994122996, 0.8300476280141759), (0.34145108286419, 0.2560140784278434), (0.5119931773955035, 0.04764567825851673), (0.9607228565214858, 0.3459590815475251), (0.6140544248143194, 0.22568954246099482), (0.7524005962652125, 0.5691469284846282), (0.9003957980585882, 0.6872708115099813), (0.3471312754415167, 0.3122221374834556), (0.6550253186247254, 0.6860405486796042), (0.39706771454841694, 0.6586237030125843), (0.12686022007415232, 0.7679194161737204), (0.4578220316492094, 0.41653878964485913), (0.13562144183107572, 0.9665324171417488), (0.1981645009837686, 0.6316255864165528), (0.31146770849702, 0.17270521416205642), (0.48521018562429663, 0.5637236284567362), (0.44675217642800147, 0.7336804262090365), (0.7332888877374842, 0.8505188962506546), (0.4580515975172603, 0.9821904302629325), (0.5032532814320996, 0.408624058159607), (0.048023749212117384, 0.08481148903200542), (0.5447527699889883, 0.48221361520263173), (0.8580770876369965, 0.6255466523559297), (0.44192640794796945, 0.17265087258937772), (0.595681694551189, 0.13920557618927332), (0.488235675918294, 0.6520122154180897), (0.061422697881866495, 0.5830700825761637)]\n"
     ]
    }
   ],
   "source": [
    "print(cities)"
   ]
  },
  {
   "cell_type": "code",
   "execution_count": 4,
   "id": "4a14d82c",
   "metadata": {},
   "outputs": [],
   "source": [
    "# itinerary variable will store the cities in a list based on the order we visit the first time\n",
    "itinerary = list(range(0,N))"
   ]
  },
  {
   "cell_type": "code",
   "execution_count": 5,
   "id": "edaebdef",
   "metadata": {},
   "outputs": [
    {
     "data": {
      "text/plain": [
       "[0,\n",
       " 1,\n",
       " 2,\n",
       " 3,\n",
       " 4,\n",
       " 5,\n",
       " 6,\n",
       " 7,\n",
       " 8,\n",
       " 9,\n",
       " 10,\n",
       " 11,\n",
       " 12,\n",
       " 13,\n",
       " 14,\n",
       " 15,\n",
       " 16,\n",
       " 17,\n",
       " 18,\n",
       " 19,\n",
       " 20,\n",
       " 21,\n",
       " 22,\n",
       " 23,\n",
       " 24,\n",
       " 25,\n",
       " 26,\n",
       " 27,\n",
       " 28,\n",
       " 29,\n",
       " 30,\n",
       " 31,\n",
       " 32,\n",
       " 33,\n",
       " 34,\n",
       " 35,\n",
       " 36,\n",
       " 37,\n",
       " 38,\n",
       " 39]"
      ]
     },
     "execution_count": 5,
     "metadata": {},
     "output_type": "execute_result"
    }
   ],
   "source": [
    "itinerary"
   ]
  },
  {
   "cell_type": "markdown",
   "id": "ef9a2283",
   "metadata": {},
   "source": [
    "Now we will need to judge this itinerary and decide whether it represents a good or at least acceptable solution to the TSP.\n",
    "\n",
    "The point of the TSP will be to minimize the travel cost of the salesman when he travels between cities"
   ]
  },
  {
   "cell_type": "markdown",
   "id": "223ed158",
   "metadata": {},
   "source": [
    "So the cost of the travel can be any you imagine"
   ]
  },
  {
   "cell_type": "markdown",
   "id": "946a07f4",
   "metadata": {},
   "source": [
    "lets imagine to travel between 2 cities is 1 dollar and we want to minimize this cost"
   ]
  },
  {
   "cell_type": "markdown",
   "id": "2c4d76fc",
   "metadata": {},
   "source": [
    "To determine the distance required by a particular itinerary, we need to define two new functions. First we need a function tat will generate a collection of lines that will connect all points, after that we need to sum up the distance represented by those lines"
   ]
  },
  {
   "cell_type": "code",
   "execution_count": 6,
   "id": "3e718b76",
   "metadata": {},
   "outputs": [],
   "source": [
    "lines = []"
   ]
  },
  {
   "cell_type": "code",
   "execution_count": 7,
   "id": "38b21ab0",
   "metadata": {},
   "outputs": [],
   "source": [
    "#iterating over every city and at each step we will be adding a new line to our lines connection that connects the current city and the city after it\n",
    "\n",
    "for j in range(0,len(itinerary) - 1):\n",
    "    lines.append([cities[itinerary[j]], cities[itinerary[j+1]]])"
   ]
  },
  {
   "cell_type": "code",
   "execution_count": 8,
   "id": "1d1a365b",
   "metadata": {},
   "outputs": [
    {
     "name": "stdout",
     "output_type": "stream",
     "text": [
      "[[(0.21215859519373315, 0.1421890509660515), (0.25901824052776146, 0.4415438502354807)], [(0.25901824052776146, 0.4415438502354807), (0.42352187994602863, 0.6384708617951832)], [(0.42352187994602863, 0.6384708617951832), (0.7196610137879806, 0.4541115917001236)], [(0.7196610137879806, 0.4541115917001236), (0.6922509256107934, 0.9795099465634718)], [(0.6922509256107934, 0.9795099465634718), (0.7281748161649396, 0.497003900057289)], [(0.7281748161649396, 0.497003900057289), (0.2875498733527475, 0.987892114481641)], [(0.2875498733527475, 0.987892114481641), (0.25408333020469553, 0.9438765028592432)], [(0.25408333020469553, 0.9438765028592432), (0.9609289991025697, 0.31254425748246295)], [(0.9609289991025697, 0.31254425748246295), (0.5652066087690863, 0.527268363065508)], [(0.5652066087690863, 0.527268363065508), (0.0669470282293596, 0.743806143933605)], [(0.0669470282293596, 0.743806143933605), (0.7333909009768429, 0.9080655744313583)], [(0.7333909009768429, 0.9080655744313583), (0.5097899289931794, 0.9438536218932465)], [(0.5097899289931794, 0.9438536218932465), (0.2275735994122996, 0.8300476280141759)], [(0.2275735994122996, 0.8300476280141759), (0.34145108286419, 0.2560140784278434)], [(0.34145108286419, 0.2560140784278434), (0.5119931773955035, 0.04764567825851673)], [(0.5119931773955035, 0.04764567825851673), (0.9607228565214858, 0.3459590815475251)], [(0.9607228565214858, 0.3459590815475251), (0.6140544248143194, 0.22568954246099482)], [(0.6140544248143194, 0.22568954246099482), (0.7524005962652125, 0.5691469284846282)], [(0.7524005962652125, 0.5691469284846282), (0.9003957980585882, 0.6872708115099813)], [(0.9003957980585882, 0.6872708115099813), (0.3471312754415167, 0.3122221374834556)], [(0.3471312754415167, 0.3122221374834556), (0.6550253186247254, 0.6860405486796042)], [(0.6550253186247254, 0.6860405486796042), (0.39706771454841694, 0.6586237030125843)], [(0.39706771454841694, 0.6586237030125843), (0.12686022007415232, 0.7679194161737204)], [(0.12686022007415232, 0.7679194161737204), (0.4578220316492094, 0.41653878964485913)], [(0.4578220316492094, 0.41653878964485913), (0.13562144183107572, 0.9665324171417488)], [(0.13562144183107572, 0.9665324171417488), (0.1981645009837686, 0.6316255864165528)], [(0.1981645009837686, 0.6316255864165528), (0.31146770849702, 0.17270521416205642)], [(0.31146770849702, 0.17270521416205642), (0.48521018562429663, 0.5637236284567362)], [(0.48521018562429663, 0.5637236284567362), (0.44675217642800147, 0.7336804262090365)], [(0.44675217642800147, 0.7336804262090365), (0.7332888877374842, 0.8505188962506546)], [(0.7332888877374842, 0.8505188962506546), (0.4580515975172603, 0.9821904302629325)], [(0.4580515975172603, 0.9821904302629325), (0.5032532814320996, 0.408624058159607)], [(0.5032532814320996, 0.408624058159607), (0.048023749212117384, 0.08481148903200542)], [(0.048023749212117384, 0.08481148903200542), (0.5447527699889883, 0.48221361520263173)], [(0.5447527699889883, 0.48221361520263173), (0.8580770876369965, 0.6255466523559297)], [(0.8580770876369965, 0.6255466523559297), (0.44192640794796945, 0.17265087258937772)], [(0.44192640794796945, 0.17265087258937772), (0.595681694551189, 0.13920557618927332)], [(0.595681694551189, 0.13920557618927332), (0.488235675918294, 0.6520122154180897)], [(0.488235675918294, 0.6520122154180897), (0.061422697881866495, 0.5830700825761637)]]\n"
     ]
    }
   ],
   "source": [
    "print(lines)"
   ]
  },
  {
   "cell_type": "code",
   "execution_count": 9,
   "id": "339f4ba4",
   "metadata": {},
   "outputs": [],
   "source": [
    "# we will now put these functions called the genlines\n",
    "def genlines(cities, itinerary):\n",
    "    lines = []\n",
    "    for j in range(0,len(itinerary) - 1):\n",
    "        lines.append([cities[itinerary[j]], cities[itinerary[j+1]]])\n",
    "    return lines"
   ]
  },
  {
   "cell_type": "markdown",
   "id": "756a1066",
   "metadata": {},
   "source": [
    "#### we will now be using the pythagoras theorem to get the distance of each line"
   ]
  },
  {
   "cell_type": "code",
   "execution_count": 10,
   "id": "0a5bd1d9",
   "metadata": {},
   "outputs": [],
   "source": [
    "import math\n",
    "def howfar(lines):\n",
    "    distance = 0\n",
    "    for j in range(0,len(lines)):\n",
    "        distance += math.sqrt(abs(lines[j][1][0] - lines[j][0][0])**2 + abs(lines[j][1][1] - lines[j][0][1])**2)\n",
    "    return distance"
   ]
  },
  {
   "cell_type": "code",
   "execution_count": 11,
   "id": "f170280d",
   "metadata": {},
   "outputs": [
    {
     "name": "stdout",
     "output_type": "stream",
     "text": [
      "16.808756356994223\n"
     ]
    }
   ],
   "source": [
    "totaldistance = howfar(genlines(cities, itinerary))\n",
    "print(totaldistance)"
   ]
  },
  {
   "cell_type": "code",
   "execution_count": 12,
   "id": "e7b75870",
   "metadata": {},
   "outputs": [],
   "source": [
    "# imagining how the plot and the lines look like\n",
    "import matplotlib.collections as mc\n",
    "import matplotlib.pylab as pl\n",
    "def plotitinerary(cities, itin, plottitle, thename):\n",
    "    lc = mc.LineCollection(genlines(cities, itin), linewidths = 2)\n",
    "    fig, ax = pl.subplots()\n",
    "    ax.add_collection(lc)\n",
    "    ax.autoscale()\n",
    "    ax.margins(0.1)\n",
    "    pl.scatter(x,y)\n",
    "    pl.title(plottitle)\n",
    "    pl.xlabel('X Coordinate')\n",
    "    pl.ylabel('Y Coordinate')\n",
    "    pl.savefig(str(thename)+'.png')\n",
    "#     pl.close()"
   ]
  },
  {
   "cell_type": "code",
   "execution_count": 13,
   "id": "881adc67",
   "metadata": {},
   "outputs": [
    {
     "data": {
      "image/png": "[encoded data removed]",
      "text/plain": [
       "<Figure size 640x480 with 1 Axes>"
      ]
     },
     "metadata": {},
     "output_type": "display_data"
    }
   ],
   "source": [
    "plotitinerary(cities, itinerary, 'TSP - Random Itinerary', 'figure-2')"
   ]
  },
  {
   "cell_type": "code",
   "execution_count": 14,
   "id": "19905612",
   "metadata": {},
   "outputs": [],
   "source": [
    "# We can tell just by looking at the figure that this shit craizy\n",
    "\n",
    "# The goal of the rest of the chapter is to optimize this craizy piece\n",
    "\n",
    "# finally the section of tradin a little complexity for a lot of performance improvement"
   ]
  },
  {
   "cell_type": "markdown",
   "id": "b2a9b64e",
   "metadata": {},
   "source": [
    "# Brain vs Brawn"
   ]
  },
  {
   "cell_type": "markdown",
   "id": "37bece69",
   "metadata": {},
   "source": [
    "Here brawn refers to brute forcing all the distance calculation between all the points and then calculating the solution"
   ]
  },
  {
   "cell_type": "markdown",
   "id": "c8fef234",
   "metadata": {},
   "source": [
    "However in the case of TSP the runtime grows far too fast for the cities greater than the number 20"
   ]
  },
  {
   "cell_type": "markdown",
   "id": "7d2f9749",
   "metadata": {},
   "source": [
    "for eg if we have N cities than the number of calulation for the distances will be N!"
   ]
  },
  {
   "cell_type": "markdown",
   "id": "b4a350cb",
   "metadata": {},
   "source": [
    "### This phenomenon is called combinatorial explosion"
   ]
  },
  {
   "cell_type": "markdown",
   "id": "701f05c2",
   "metadata": {},
   "source": [
    "### The brain here will be algorithms to simplify the process such that we dont brute force everything"
   ]
  },
  {
   "cell_type": "markdown",
   "id": "a93f7c6c",
   "metadata": {},
   "source": [
    "# The nearest neighbor algorithm"
   ]
  },
  {
   "cell_type": "markdown",
   "id": "f8a72e56",
   "metadata": {},
   "source": [
    "we will start with the first city on the list, and then we simply find the closest unvisited city to the first city and visit that city"
   ]
  },
  {
   "cell_type": "markdown",
   "id": "b408d784",
   "metadata": {},
   "source": [
    "repeat it and you wont get minimum but it will take a very less time compared to the brute force"
   ]
  },
  {
   "cell_type": "code",
   "execution_count": 15,
   "id": "5ef14764",
   "metadata": {},
   "outputs": [],
   "source": [
    "# Function for finding the nearest neighbor for any given city\n",
    "\n",
    "point = [0.5,0.5]\n",
    "j= 10\n",
    "distance = math.sqrt((point[0] - cities[j][0])**2+(point[1] - cities[j][1])**2)"
   ]
  },
  {
   "cell_type": "markdown",
   "id": "e83db743",
   "metadata": {},
   "source": [
    "for finding which point is closest,we need to iterate over every city and check the distance between the point and every city"
   ]
  },
  {
   "cell_type": "code",
   "execution_count": 16,
   "id": "61f0ca22",
   "metadata": {},
   "outputs": [],
   "source": [
    "def findnearest(cities, idx, nnitinerary):\n",
    "    point = cities[idx]\n",
    "    mindistance = float('inf')\n",
    "    minidx = -1\n",
    "    for j in range(0,len(cities)):\n",
    "        distance = math.sqrt((point[0] - cities[j][0])**2 + (point[1] - cities[j][1])**2)\n",
    "        if distance < mindistance and distance>0 and j not in nnitinerary:\n",
    "            mindistance = distance\n",
    "            minidx = j\n",
    "    return minidx"
   ]
  },
  {
   "cell_type": "markdown",
   "id": "031b6250",
   "metadata": {},
   "source": [
    "our goal will now be to create a new itinerary called the nnitinerary which start with the first city as "
   ]
  },
  {
   "cell_type": "code",
   "execution_count": 17,
   "id": "d695ed95",
   "metadata": {},
   "outputs": [],
   "source": [
    "nnitinerary = [0]"
   ]
  },
  {
   "cell_type": "markdown",
   "id": "bb387c58",
   "metadata": {},
   "source": [
    "if it needs to have N cities than we iterate over all numbers 0 to N"
   ]
  },
  {
   "cell_type": "code",
   "execution_count": 18,
   "id": "145980dc",
   "metadata": {},
   "outputs": [],
   "source": [
    "def donn(cities, N):\n",
    "    nnitinerary = [0]\n",
    "    for j in range(0,N-1):\n",
    "        next = findnearest(cities, nnitinerary[len(nnitinerary) - 1], nnitinerary)\n",
    "        nnitinerary.append(next)\n",
    "    return nnitinerary"
   ]
  },
  {
   "cell_type": "code",
   "execution_count": 19,
   "id": "3f0ec15c",
   "metadata": {},
   "outputs": [
    {
     "data": {
      "image/png": "[encoded data removed]",
      "text/plain": [
       "<Figure size 640x480 with 1 Axes>"
      ]
     },
     "metadata": {},
     "output_type": "display_data"
    }
   ],
   "source": [
    "plotitinerary(cities, donn(cities, N), \"TSP - Nearest Neighbor\", 'figure - 3')"
   ]
  },
  {
   "cell_type": "code",
   "execution_count": 20,
   "id": "ec3f3f72",
   "metadata": {},
   "outputs": [
    {
     "name": "stdout",
     "output_type": "stream",
     "text": [
      "6.29000579854535\n"
     ]
    }
   ],
   "source": [
    "print(howfar(genlines(cities, donn(cities, N))))"
   ]
  },
  {
   "cell_type": "markdown",
   "id": "c4a23530",
   "metadata": {},
   "source": [
    "# Checking for further improvements"
   ]
  },
  {
   "cell_type": "markdown",
   "id": "b6f02a39",
   "metadata": {},
   "source": [
    "## we will try to change the order of the cities that have been provided originally"
   ]
  },
  {
   "cell_type": "code",
   "execution_count": 21,
   "id": "bb87f32b",
   "metadata": {},
   "outputs": [],
   "source": [
    "def perturb(cities, itinerary):\n",
    "    neighborids1 = math.floor(np.random.rand() * len(itinerary))\n",
    "    neighborids2 = math.floor(np.random.rand() * len(itinerary))\n",
    "    \n",
    "    itinerary2 = itinerary.copy()\n",
    "    \n",
    "    itinerary2[neighborids1] = itinerary[neighborids2]\n",
    "    itinerary2[neighborids2] = itinerary[neighborids1]\n",
    "    \n",
    "    distance1 = howfar(genlines(cities, itinerary))\n",
    "    distance2 = howfar(genlines(cities, itinerary2))\n",
    "    \n",
    "    itinerarytoreturn = itinerary.copy()\n",
    "    \n",
    "    if distance1>distance2:\n",
    "        itinerarytoreturn = itinerary2.copy()\n",
    "    \n",
    "    return itinerarytoreturn.copy()"
   ]
  },
  {
   "cell_type": "markdown",
   "id": "625503fa",
   "metadata": {},
   "source": [
    "Now that we have a perturb function , let us call it repeatedly on a random itinerary"
   ]
  },
  {
   "cell_type": "code",
   "execution_count": 22,
   "id": "bebe3c37",
   "metadata": {},
   "outputs": [
    {
     "name": "stdout",
     "output_type": "stream",
     "text": [
      "7.37962855396978\n"
     ]
    }
   ],
   "source": [
    "itinerary = [0,1,2,3,4,5,6,7,8,9,10,11,12,13,14,15,16,17,18,19,20,21,22,23,24,25,26,27,28,29,30,31,32,33,34,35,36,37,38,39]\n",
    "\n",
    "np.random.seed(random_seed)\n",
    "itinerary_ps = itinerary.copy()\n",
    "for n in range(0, len(itinerary)*50000):\n",
    "    itinerary_ps = perturb(cities, itinerary_ps)\n",
    "    \n",
    "print(howfar(genlines(cities, itinerary_ps)))"
   ]
  },
  {
   "cell_type": "markdown",
   "id": "85d13625",
   "metadata": {},
   "source": [
    "## what we just implemented is known as perturb search algorithm"
   ]
  },
  {
   "cell_type": "markdown",
   "id": "9516e6a3",
   "metadata": {},
   "source": [
    "# We only need to make a few more adjustments to this algorithm to make the simulated annealing that is the capstone of this chapter"
   ]
  },
  {
   "cell_type": "markdown",
   "id": "658d447c",
   "metadata": {},
   "source": [
    "# The above 2 algorithms which is the nearest neighbor and the perturb search algorithms are called greedy search algorithms"
   ]
  },
  {
   "cell_type": "markdown",
   "id": "a7b1af5a",
   "metadata": {},
   "source": [
    "# Introducing the temperature function"
   ]
  },
  {
   "cell_type": "markdown",
   "id": "58b5b52d",
   "metadata": {},
   "source": [
    "To do worse with the intention of eventually doing better is a delicate undertaking. if we are overzealous in our willingness to do worse, we might just go downward at every step and get to a low point instead of a high one.\n",
    "\n",
    "we need to find a way to do worse only a little, only occasionally and only in the context of learning how to eventually do better."
   ]
  },
  {
   "cell_type": "markdown",
   "id": "d60785f0",
   "metadata": {},
   "source": [
    "To understand what we will be doing we have an example:\n",
    "    \n",
    "    Suppose we want to climb a mountain in a day but also try to finish it before it gets dark and very cold.\n",
    "    \n",
    "    We start in the late afternoon and know that we have only 2 hours to find the highest point \n",
    "    \n",
    "    Suppose we also dont have a watch to keep track of time but we know that the air gradually cools down in the evening, so we decide to use the temperature as a way to gauge approximately how much time we have left to find the highest point\n",
    "    \n",
    "    At the beginning of our 2 hours when its relatively hot outside, it is natural for us to be open to creative exploration. Since we have a long time remaining, its not a big risk to travel downward in order to understand the terrain better and also find some new places\n",
    "    \n",
    "    but as it gets colder and we near our 2 hours, we will be less open to broad exploration. We will be more narrowly focused on improvements and less willing to travel downward"
   ]
  },
  {
   "cell_type": "markdown",
   "id": "88ebe380",
   "metadata": {},
   "source": [
    "### In order to model this scenario we will define a function and start with a hot temperature and a willingess to explore and go downward, and we will end with a cool temperature and an unwillingness to go downward"
   ]
  },
  {
   "cell_type": "code",
   "execution_count": 23,
   "id": "64b8d8b0",
   "metadata": {},
   "outputs": [],
   "source": [
    "temperature = lambda t:1/(t+1)"
   ]
  },
  {
   "cell_type": "markdown",
   "id": "679731ef",
   "metadata": {},
   "source": [
    "We can understand a simple plot of the temperature function by the code provided below"
   ]
  },
  {
   "cell_type": "code",
   "execution_count": 24,
   "id": "f388f33d",
   "metadata": {},
   "outputs": [
    {
     "data": {
      "image/png": "[encoded data removed]",
      "text/plain": [
       "<Figure size 640x480 with 1 Axes>"
      ]
     },
     "metadata": {},
     "output_type": "display_data"
    }
   ],
   "source": [
    "import matplotlib.pyplot as plt\n",
    "ts = list(range(0,100))\n",
    "plt.plot(ts, [temperature(t) for t in ts])\n",
    "plt.title('The temperature function')\n",
    "plt.xlabel('Time')\n",
    "plt.ylabel('Temperature')\n",
    "plt.show()"
   ]
  },
  {
   "cell_type": "markdown",
   "id": "dd979d42",
   "metadata": {},
   "source": [
    "### This temperature will be used as a scheduule that will govern our optimization"
   ]
  },
  {
   "cell_type": "markdown",
   "id": "9ee86f87",
   "metadata": {},
   "source": [
    "# Simulated annealing"
   ]
  },
  {
   "cell_type": "markdown",
   "id": "e3f359a6",
   "metadata": {},
   "source": [
    "### Bringing all of our ideas together: the temperature function, the searh problem in hilly terrain, the perturb search algorithm, and the TSP"
   ]
  },
  {
   "cell_type": "markdown",
   "id": "c4468d99",
   "metadata": {},
   "source": [
    "#### Simulated annealing is different from the perturb search algorithm only because we are sometimes willing to accept itinerary changes that increase the distance travelled, because this enables us to avoid the problem of local optimization. Our willingness to accept worse itineraries depends on the current temperature"
   ]
  },
  {
   "cell_type": "code",
   "execution_count": 25,
   "id": "dacca1bc",
   "metadata": {},
   "outputs": [],
   "source": [
    "# modifying our perturb algorithm with a new argument time\n",
    "# the time measures how far we are through the simulated annealing process, the first time we call perturb time = 1, and then 2 and then 3 as many times as we call perturb it will increase\n",
    "\n",
    "def perturb_sa1(cities, itinerary, time):\n",
    "    neighborids1 = math.floor(np.random.rand() * (len(itinerary)))\n",
    "    neighborids2 = math.floor(np.random.rand() * (len(itinerary)))\n",
    "    \n",
    "    itinerary2 = itinerary.copy()\n",
    "    \n",
    "    itinerary2[neighborids1] = itinerary[neighborids2]\n",
    "    itinerary2[neighborids2] = itinerary[neighborids1]\n",
    "    \n",
    "    distance1 = howfar(genlines(cities, itinerary))\n",
    "    distance2 = howfar(genlines(cities, itinerary2))\n",
    "    \n",
    "    itinerarytoreturn = itinerary.copy()\n",
    "    \n",
    "    randomdraw = np.random.rand()\n",
    "    temperature = 1/((time/1000)+1)\n",
    "    \n",
    "    if distance2 > distance1 and randomdraw < temperature or distance1>distance2:\n",
    "        itinerarytoreturn = itinerary2.copy()\n",
    "        \n",
    "    return itinerarytoreturn.copy()"
   ]
  },
  {
   "cell_type": "code",
   "execution_count": null,
   "id": "6b6a2658",
   "metadata": {},
   "outputs": [],
   "source": [
    "# Comparing the performance of simulated annealing with searh algorithm and nearest neighbor as follows\n",
    "\n",
    "itinerary = [i for i in range(0,40)]\n",
    "np.random.seed(random_seed)\n",
    "itinerary_sa = itinerary.copy()\n",
    "for n in range(0,len(itinerary)*50000):\n",
    "    itinerary_sa = perturb_sa1(cities, itinerary_sa, n)\n",
    "    \n",
    "print(howfar(genlines(cities,itinerary))) #random itinerary\n",
    "print(howfar(genlines(cities,itinerary_ps))) #perturb search\n",
    "print(howfar(genlines(cities,itinerary_sa))) #simulated annealing\n",
    "print(howfar(genlines(cities,donn(cities,N)))) #nearest neighbor"
   ]
  },
  {
   "cell_type": "markdown",
   "id": "cea2f73e",
   "metadata": {},
   "source": [
    "# now we will talk about the fine tuning of our simulated annealing algorithm"
   ]
  },
  {
   "cell_type": "markdown",
   "id": "1afcf868",
   "metadata": {},
   "source": [
    "the way we perturbed our itinerary was one way of perturbing, we can perturb the data in any way we want\n",
    "\n",
    "hence another way to perturb data is by reversing some portion of the data: take a subset of cities and visit them in opposite order"
   ]
  },
  {
   "cell_type": "code",
   "execution_count": null,
   "id": "23f5b04d",
   "metadata": {},
   "outputs": [],
   "source": [
    "# reversing in one line\n",
    "small = 10\n",
    "big = 20\n",
    "itinerary = [i for i in range(0,40)]\n",
    "itinerary[small:big] = itinerary[small:big][::-1]\n",
    "print(itinerary)"
   ]
  },
  {
   "cell_type": "markdown",
   "id": "a84fb9f1",
   "metadata": {},
   "source": [
    "another way to also perturb is to lift a section from where it is and place it to another part of the itinerary"
   ]
  },
  {
   "cell_type": "code",
   "execution_count": null,
   "id": "5fe368b9",
   "metadata": {},
   "outputs": [],
   "source": [
    "itinerary = [i for i in range(0,10)]"
   ]
  },
  {
   "cell_type": "code",
   "execution_count": null,
   "id": "79b2adda",
   "metadata": {},
   "outputs": [],
   "source": [
    "# and move the section [1,2,3,4] to the later part of it\n",
    "itinerary = [0,5,6,7,8,1,2,3,4,9]"
   ]
  },
  {
   "cell_type": "code",
   "execution_count": null,
   "id": "02f806b1",
   "metadata": {},
   "outputs": [],
   "source": [
    "# we can do this type of lifting and moving, which will move a chosen section to a random location\n",
    "small = 1\n",
    "big = 5\n",
    "itinerary = [i for i in range(0,10)]\n",
    "tempitin = itinerary[small:big]\n",
    "del(itinerary[small:big])\n",
    "np.random.seed(random_seed+1)\n",
    "neighborids3 = math.floor(np.random.rand() * len(itinerary))\n",
    "for j in range(0, len(tempitin)):\n",
    "    itinerary.insert(neighborids3 + j, tempitin[j])"
   ]
  },
  {
   "cell_type": "code",
   "execution_count": null,
   "id": "a7672a33",
   "metadata": {},
   "outputs": [],
   "source": [
    "itinerary"
   ]
  },
  {
   "cell_type": "markdown",
   "id": "730f9ff9",
   "metadata": {},
   "source": [
    "We can update our perturb() function so that it randomly alternates\n",
    "between these different perturbing methods. We’ll do this by making\n",
    "another random selection of a number between 0 and 1. If this new ran-\n",
    "dom number lies in a certain range (say, 0–0.45), we’ll perturb by revers-\n",
    "ing a subset of cities, but if it lies in another range (say, 0.45–0.55), we’ll\n",
    "perturb by switching the places of two cities. If it lies in a final range (say,\n",
    "0.55–1), we’ll perturb by lifting and moving a subset of cities. In this way,\n",
    "our perturb() function can randomly alternate between each type of per-\n",
    "turbing. We can put this random selection and these types of perturbing\n",
    "into our new function, now called perturb_sa2(), as shown "
   ]
  },
  {
   "cell_type": "code",
   "execution_count": null,
   "id": "f8886df0",
   "metadata": {},
   "outputs": [],
   "source": [
    "def perturb_sa2(cities, itinerary, time):\n",
    "    neighborids1 = math.floor(np.random.rand() * len(itinerary))\n",
    "    neighborids2 = math.floor(np.random.rand() * len(itinerary))\n",
    "    \n",
    "    itinerary2 = itinerary.copy()\n",
    "    \n",
    "    randomdraw2 = np.random.rand()\n",
    "    small = min(neighborids1, neighborids2)\n",
    "    big = max(neighborids1, neighborids2)\n",
    "    if(randomdraw2>=0.55):\n",
    "        itinerary2[small:big] = itinerary[small:big][::-1]\n",
    "    elif randomdraw2<0.45:\n",
    "        tempitin = itinerary[small:big]\n",
    "        del(itinerary2[small:big])\n",
    "        neighborids3 = math.floor(np.random.rand() * len(itinerary))\n",
    "        for j in range(0,len(tempitin)):\n",
    "            itinerary2.insert(neighborids3 + j, tempitin[j])\n",
    "    else:\n",
    "        itinerary2[neighborids1] = itinerary[neighborids2]\n",
    "        itinerary2[neighborids2] = itinerary[neighborids1]\n",
    "        \n",
    "    distance1 = howfar(genlines(cities, itinerary))\n",
    "    distance2 = howfar(genlines(cities, itinerary2))\n",
    "    \n",
    "    itinerarytoreturn = itinerary.copy()\n",
    "    \n",
    "    randomdraw = np.random.rand()\n",
    "    temperature = 1/((time/1000)+1)\n",
    "    \n",
    "    if distance2>distance1 and randomdraw<temperature or distance1 > distance2:\n",
    "        itinerarytoreturn = itinerary2.copy()\n",
    "        \n",
    "    return itinerarytoreturn.copy()"
   ]
  },
  {
   "cell_type": "markdown",
   "id": "3169c4ab",
   "metadata": {},
   "source": [
    "# avoiding major setbacks"
   ]
  },
  {
   "cell_type": "markdown",
   "id": "6275fd57",
   "metadata": {},
   "source": [
    "currently our only factor thats been asking us whether we can accept a change for worse is whether the random selection is less than the temperature, \n",
    "\n",
    "however we will want to change that in such a way that we will also want to check that we are accepting a change that is worse to a limit and is not a change that is the worst we could have taken"
   ]
  },
  {
   "cell_type": "markdown",
   "id": "d810660a",
   "metadata": {},
   "source": [
    "# for this measurement or factor inclusion we will do the following\n",
    "    scale = 3.5\n",
    "    distance2, distance1 = 40, 10\n",
    "    randomdraw = 20\n",
    "    if(distance2>distance1 and randomdraw<math.exp(scale*(distance1-distance2))'*temperature or distance1>distance2):\n",
    "        print(\"hello\")\n",
    "    else:\n",
    "        print('hello')"
   ]
  },
  {
   "cell_type": "markdown",
   "id": "e8c5663c",
   "metadata": {},
   "source": [
    "# Allowing resets"
   ]
  },
  {
   "cell_type": "markdown",
   "id": "dc13194e",
   "metadata": {},
   "source": [
    "We may also unwittingly accept a change to our itinerary a change that is unequivocally bad, so we may as well keep a track on the best itinerary we encountered so far so as to allow our algorithm to reset to that best itinerary under certain conditions"
   ]
  },
  {
   "cell_type": "code",
   "execution_count": null,
   "id": "b0cf8f29",
   "metadata": {},
   "outputs": [],
   "source": [
    "def perturb_sa3(cities, itinerary, time, maxitin):\n",
    "    print(itinerary)\n",
    "    neighborids1 = math.floor(np.random.rand() * len(itinerary))\n",
    "    neighborids2 = math.floor(np.random.rand() * len(itinerary))\n",
    "    global mindistance\n",
    "    global minitinerary\n",
    "    global minidx\n",
    "    itinerary2 = itinerary.copy()\n",
    "    randomdraw = np.random.rand()\n",
    "    \n",
    "    randomdraw2 = np.random.rand()\n",
    "    small = min(neighborids1, neighborids2)\n",
    "    big = max(neighborids1, neighborids2)\n",
    "    if(randomdraw2 >= 0.55):\n",
    "        itinerary2[small:big] = itinerary2[small:big][::-1]\n",
    "    elif randomdraw2<0.45:\n",
    "        tempitin = itinerary[small:big]\n",
    "        del(itinerary2[small:big])\n",
    "        neighborids3 = math.floor(np.random.rand() * len(itinerary))\n",
    "        for j in range(0,len(tempitin)):\n",
    "            itinerary2.insert(neighborids3+j, tempitin[j])\n",
    "    else:\n",
    "        itinerary2[neighborids1] = itinerary[neighborids2]\n",
    "        itinerary2[neighborids2] = itinerary[neighborids1]\n",
    "        \n",
    "    temperature = 1/(time/(maxitin/10)+1)\n",
    "        \n",
    "    distance1 = howfar(genlines(cities, itinerary))\n",
    "    distance2 = howfar(genlines(cities, itinerary2))\n",
    "        \n",
    "    itenerarytoreturn = itinerary.copy()\n",
    "        \n",
    "    scale = 3.5\n",
    "    if (distance2>distance1) and (randomdraw<(math.exp(scale*(distance1-distance2))*temperature)) or distance1>distance2:\n",
    "        itinerarytoreturn = itinerary2.copy()\n",
    "            \n",
    "    reset = True\n",
    "    resetthresh = 0.04\n",
    "    if(reset and (time-minidx)>(maxitin*resetthresh)):\n",
    "        itinerarytoreturn = minitinerary\n",
    "        minidx = time\n",
    "        \n",
    "    if howfar(genlines(cities, itinerarytoreturn))<mindistance:\n",
    "        mindistance = howfar(genlines(cities, itinerary2))\n",
    "        minitinerary = itinerarytoreturn\n",
    "        minidx = time\n",
    "        \n",
    "    if abs(time-maxitin)<=1:\n",
    "        itinerarytoreturn = minitinerary.copy()\n",
    "        \n",
    "    return itinerarytoreturn.copy()"
   ]
  },
  {
   "cell_type": "markdown",
   "id": "0eecff6e",
   "metadata": {},
   "source": [
    "# Testing"
   ]
  },
  {
   "cell_type": "code",
   "execution_count": null,
   "id": "9821a4ee",
   "metadata": {},
   "outputs": [],
   "source": [
    "itinerary = [i for i in range(40)]\n",
    "itinerary"
   ]
  },
  {
   "cell_type": "code",
   "execution_count": null,
   "id": "eb8203c7",
   "metadata": {},
   "outputs": [],
   "source": [
    "def siman(itinerary, cities):\n",
    "    newitinerary = itinerary.copy()\n",
    "#     print(newitinerary)\n",
    "    global mindistance \n",
    "    global minitinerary\n",
    "    global minidx\n",
    "    mindistance = howfar(genlines(cities, itinerary))\n",
    "    minitinerary = itinerary\n",
    "    minidx = 0\n",
    "    \n",
    "    maxitin= len(itinerary)*5000\n",
    "    for t in range(0,maxitin):\n",
    "        newitinerary = perturb_sa3(cities, newitinerary, t, maxitin)\n",
    "    return newitinerary.copy()"
   ]
  },
  {
   "cell_type": "markdown",
   "id": "83d00b74",
   "metadata": {},
   "source": [
    "next we call siman and compare our new results with nearest neighbor algorithm"
   ]
  },
  {
   "cell_type": "code",
   "execution_count": null,
   "id": "44908433",
   "metadata": {},
   "outputs": [],
   "source": [
    "itinerary = [i for i in range(40)]\n",
    "itinerary"
   ]
  },
  {
   "cell_type": "code",
   "execution_count": null,
   "id": "3dc9affc",
   "metadata": {},
   "outputs": [],
   "source": [
    "np.random.seed(random_seed)\n",
    "nnitin = donn(cities, 40)\n",
    "nnresult = howfar(genlines(cities, nnitin))\n",
    "simanitinerary = siman(itinerary, cities)\n",
    "simanresult = howfar(genlines(cities, simanitinerary))\n",
    "print(nnresult)\n",
    "print(simanresult)\n",
    "print(simanresult/nnresult)"
   ]
  },
  {
   "cell_type": "code",
   "execution_count": null,
   "id": "549fae35",
   "metadata": {},
   "outputs": [],
   "source": []
  },
  {
   "cell_type": "code",
   "execution_count": null,
   "id": "ec8092a7",
   "metadata": {},
   "outputs": [],
   "source": []
  }
 ],
 "metadata": {
  "kernelspec": {
   "display_name": "Python 3 (ipykernel)",
   "language": "python",
   "name": "python3"
  },
  "language_info": {
   "codemirror_mode": {
    "name": "ipython",
    "version": 3
   },
   "file_extension": ".py",
   "mimetype": "text/x-python",
   "name": "python",
   "nbconvert_exporter": "python",
   "pygments_lexer": "ipython3",
   "version": "3.11.4"
  }
 },
 "nbformat": 4,
 "nbformat_minor": 5
}
